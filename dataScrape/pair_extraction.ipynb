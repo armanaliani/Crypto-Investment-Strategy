{
 "cells": [
  {
   "cell_type": "markdown",
   "id": "e17dfa11-95c8-4041-af1c-8fac1190f4c9",
   "metadata": {},
   "source": [
    "# Pair Extraction"
   ]
  },
  {
   "cell_type": "markdown",
   "id": "8d705941-2a77-4b25-ba67-7a7e8dff9355",
   "metadata": {},
   "source": [
    "In our defined_volume_scrape, we realized we needed pair addresses instead of regular addresses. \n",
    "\n",
    "Were going to be using a link in our previously scraped discord data to extract this pair address. Here's how it works\n",
    "\n",
    "This is an example token link:\n",
    "- https://dexscreener.com/ethereum/0xba687c0617898c86d8923bad5cb68a98c3fd5b4c\n",
    "\n",
    "Let's break down this link:\n",
    "- 'https://dexscreener.com' == a charting website, shows trading activity for tokens\n",
    "- '/ethereum' == the crypto network we are trading on\n",
    "- '/0xba687c0617898c86d8923bad5cb68a98c3fd5b4c' the pair address for which we want to conduct our analysis/view trades\n",
    "\n",
    "Let's get started."
   ]
  },
  {
   "cell_type": "code",
   "execution_count": 1,
   "id": "3cf971ba-9f4e-41c4-926d-d0b6eb109d1f",
   "metadata": {},
   "outputs": [],
   "source": [
    "import pandas as pd\n",
    "import json"
   ]
  },
  {
   "cell_type": "markdown",
   "id": "673e3f59-326b-4da1-8c93-609db5d1db4e",
   "metadata": {},
   "source": [
    "Let's test with just the first line of the json file"
   ]
  },
  {
   "cell_type": "code",
   "execution_count": 2,
   "id": "0ecd51b9-9b10-4b17-a059-df95b6beee47",
   "metadata": {},
   "outputs": [
    {
     "name": "stdout",
     "output_type": "stream",
     "text": [
      "0x989736bce931f4ecd9c39b0ba9aeaf058c3fe1f8\n"
     ]
    }
   ],
   "source": [
    "with open('../data/filtered_scrape_data.json', 'r') as file:\n",
    "    first_line = file.readline()\n",
    "\n",
    "json_data = json.loads(first_line)\n",
    "\n",
    "print(json_data['dict24']['value'].split('·')[1].split('/')[-1][:-2])"
   ]
  },
  {
   "cell_type": "markdown",
   "id": "2c408710-91af-48f5-9864-6f42363aac83",
   "metadata": {},
   "source": [
    "Get the Pair address from the end of the Dexscreener link as well as the token address to later merge with our main token data df"
   ]
  },
  {
   "cell_type": "code",
   "execution_count": 3,
   "id": "552714b8-209c-480c-9d47-2e86dcaa18e5",
   "metadata": {},
   "outputs": [],
   "source": [
    "values_list = []\n",
    "line_number = 1\n",
    "\n",
    "with open('../data/filtered_scrape_data.json', 'r') as file:\n",
    "    for line in file:\n",
    "        json_data = json.loads(line.strip())\n",
    "        \n",
    "        value_item_list = [\n",
    "            json_data['dict0'],  # contract address\n",
    "            json_data['dict24']['value'].split('·')[1].split('/')[-1][:-2] # pair address\n",
    "        ]\n",
    "\n",
    "        # add to values_list\n",
    "        values_list.append(value_item_list)\n",
    "        \n",
    "        line_number += 1  # Increment line number counter\n",
    "\n",
    "\n",
    "# create dataframe with json data\n",
    "columns = ['address', 'pair_address']\n",
    "df = pd.DataFrame(values_list, columns=columns)"
   ]
  },
  {
   "cell_type": "markdown",
   "id": "19651cda-17c2-4e04-bff5-e18e649b36c9",
   "metadata": {},
   "source": [
    "Let's take a look at our data:"
   ]
  },
  {
   "cell_type": "code",
   "execution_count": 4,
   "id": "652e4839-5c61-4519-8e93-4ab650c8b4e4",
   "metadata": {},
   "outputs": [
    {
     "data": {
      "text/html": [
       "<div>\n",
       "<style scoped>\n",
       "    .dataframe tbody tr th:only-of-type {\n",
       "        vertical-align: middle;\n",
       "    }\n",
       "\n",
       "    .dataframe tbody tr th {\n",
       "        vertical-align: top;\n",
       "    }\n",
       "\n",
       "    .dataframe thead th {\n",
       "        text-align: right;\n",
       "    }\n",
       "</style>\n",
       "<table border=\"1\" class=\"dataframe\">\n",
       "  <thead>\n",
       "    <tr style=\"text-align: right;\">\n",
       "      <th></th>\n",
       "      <th>address</th>\n",
       "      <th>pair_address</th>\n",
       "    </tr>\n",
       "  </thead>\n",
       "  <tbody>\n",
       "    <tr>\n",
       "      <th>0</th>\n",
       "      <td>0xa190700f5ae95de4eabf29fa9469bd85ff5a7919</td>\n",
       "      <td>0x989736bce931f4ecd9c39b0ba9aeaf058c3fe1f8</td>\n",
       "    </tr>\n",
       "    <tr>\n",
       "      <th>1</th>\n",
       "      <td>0x9de736b02f3d09738ac42cdea046b014b0d54d60</td>\n",
       "      <td>0x6343111c06d4bb6dde9c411de6f15c8ae8d0a41a</td>\n",
       "    </tr>\n",
       "    <tr>\n",
       "      <th>2</th>\n",
       "      <td>0xaaf8a1aad53c9384be3aecb5a16af6121a5ad935</td>\n",
       "      <td>0x0f7e412fe32fbc1d8d77c143e6c309c978a4592b</td>\n",
       "    </tr>\n",
       "    <tr>\n",
       "      <th>3</th>\n",
       "      <td>0xa17ae9a7174cdbc5294e3fad8afbafc1be1764a3</td>\n",
       "      <td>0x2f8d07b46aab40e8f7cfd7e4dececb3eeca3978e</td>\n",
       "    </tr>\n",
       "    <tr>\n",
       "      <th>4</th>\n",
       "      <td>0x3b2d93677c433c191aa379c78b97e0685c3f4798</td>\n",
       "      <td>0x5232a7ef61fef9594b40ffb07bddd6df00aea621</td>\n",
       "    </tr>\n",
       "    <tr>\n",
       "      <th>...</th>\n",
       "      <td>...</td>\n",
       "      <td>...</td>\n",
       "    </tr>\n",
       "    <tr>\n",
       "      <th>60232</th>\n",
       "      <td>0x7832eAFa8A3c90459F1574ccEd381a1F5C2C9435</td>\n",
       "      <td>0xeb9b1a55a9d55919f09651319d93dc12b352d880</td>\n",
       "    </tr>\n",
       "    <tr>\n",
       "      <th>60233</th>\n",
       "      <td>0xc7B40cdB7c8Acb28C2E2d63159a2D4133397f3D0</td>\n",
       "      <td>0x713e8b867fe1e44e1dc0c57c2c74386d6b5bfb34</td>\n",
       "    </tr>\n",
       "    <tr>\n",
       "      <th>60234</th>\n",
       "      <td>0x1750B71F31990F95A5d52534F50945289d888cb9</td>\n",
       "      <td>0x37580dfde64d6a0af46d425296536cc8238eb640</td>\n",
       "    </tr>\n",
       "    <tr>\n",
       "      <th>60235</th>\n",
       "      <td>0x281B7d6B3e98daf156A6Ed110Ff7b9E05D413677</td>\n",
       "      <td>0xac994cf17f1d2306dc78617d30eab9cef490af03</td>\n",
       "    </tr>\n",
       "    <tr>\n",
       "      <th>60236</th>\n",
       "      <td>0xEC0F269C78Ea1b5FC15306aC9AD8F4b877c041Ce</td>\n",
       "      <td>0x20a679baaa3d8a4f49b6efb421bba7d49ddc73de</td>\n",
       "    </tr>\n",
       "  </tbody>\n",
       "</table>\n",
       "<p>60237 rows × 2 columns</p>\n",
       "</div>"
      ],
      "text/plain": [
       "                                          address  \\\n",
       "0      0xa190700f5ae95de4eabf29fa9469bd85ff5a7919   \n",
       "1      0x9de736b02f3d09738ac42cdea046b014b0d54d60   \n",
       "2      0xaaf8a1aad53c9384be3aecb5a16af6121a5ad935   \n",
       "3      0xa17ae9a7174cdbc5294e3fad8afbafc1be1764a3   \n",
       "4      0x3b2d93677c433c191aa379c78b97e0685c3f4798   \n",
       "...                                           ...   \n",
       "60232  0x7832eAFa8A3c90459F1574ccEd381a1F5C2C9435   \n",
       "60233  0xc7B40cdB7c8Acb28C2E2d63159a2D4133397f3D0   \n",
       "60234  0x1750B71F31990F95A5d52534F50945289d888cb9   \n",
       "60235  0x281B7d6B3e98daf156A6Ed110Ff7b9E05D413677   \n",
       "60236  0xEC0F269C78Ea1b5FC15306aC9AD8F4b877c041Ce   \n",
       "\n",
       "                                     pair_address  \n",
       "0      0x989736bce931f4ecd9c39b0ba9aeaf058c3fe1f8  \n",
       "1      0x6343111c06d4bb6dde9c411de6f15c8ae8d0a41a  \n",
       "2      0x0f7e412fe32fbc1d8d77c143e6c309c978a4592b  \n",
       "3      0x2f8d07b46aab40e8f7cfd7e4dececb3eeca3978e  \n",
       "4      0x5232a7ef61fef9594b40ffb07bddd6df00aea621  \n",
       "...                                           ...  \n",
       "60232  0xeb9b1a55a9d55919f09651319d93dc12b352d880  \n",
       "60233  0x713e8b867fe1e44e1dc0c57c2c74386d6b5bfb34  \n",
       "60234  0x37580dfde64d6a0af46d425296536cc8238eb640  \n",
       "60235  0xac994cf17f1d2306dc78617d30eab9cef490af03  \n",
       "60236  0x20a679baaa3d8a4f49b6efb421bba7d49ddc73de  \n",
       "\n",
       "[60237 rows x 2 columns]"
      ]
     },
     "execution_count": 4,
     "metadata": {},
     "output_type": "execute_result"
    }
   ],
   "source": [
    "df"
   ]
  },
  {
   "cell_type": "code",
   "execution_count": 28,
   "id": "2c7aa08a-1da1-4c73-9177-bf0d0d09845d",
   "metadata": {},
   "outputs": [],
   "source": [
    "df.to_csv('../data/pair_addresses.csv', index=False)"
   ]
  },
  {
   "cell_type": "markdown",
   "id": "48d8c4c6-b544-4b4e-a3e2-25b887ac3374",
   "metadata": {},
   "source": [
    "Now that we have the necessary data to find our volumes, let's head back to: **['defined_volume_scrape'](./defined_volume_scrape.ipynb)**"
   ]
  },
  {
   "cell_type": "code",
   "execution_count": null,
   "id": "53c6a214-208c-4051-832d-304765e30460",
   "metadata": {},
   "outputs": [],
   "source": []
  }
 ],
 "metadata": {
  "kernelspec": {
   "display_name": "Python 3 (ipykernel)",
   "language": "python",
   "name": "python3"
  },
  "language_info": {
   "codemirror_mode": {
    "name": "ipython",
    "version": 3
   },
   "file_extension": ".py",
   "mimetype": "text/x-python",
   "name": "python",
   "nbconvert_exporter": "python",
   "pygments_lexer": "ipython3",
   "version": "3.8.18"
  }
 },
 "nbformat": 4,
 "nbformat_minor": 5
}
