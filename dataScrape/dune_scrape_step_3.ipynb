{
 "cells": [
  {
   "cell_type": "markdown",
   "id": "b41c2d6b-03fd-4bd5-a814-a97e5910a5c3",
   "metadata": {},
   "source": [
    "# Dune Scrape\n",
    "#### Step 3"
   ]
  },
  {
   "cell_type": "markdown",
   "id": "4fd1ff29-4631-491e-a274-6c60f103cf0e",
   "metadata": {},
   "source": [
    "In previous steps, we collected token metrics for the beginning of their trading lifecycles.\n",
    "\n",
    "In order to determine a measure of success, we should know how well each token performed. We will do this by using the token address in our current data to find it's all time high price, and the date at which the all time high price occurs"
   ]
  },
  {
   "cell_type": "code",
   "execution_count": 52,
   "id": "d08e4402-c130-4b20-a9f1-7df0022205bc",
   "metadata": {},
   "outputs": [],
   "source": [
    "import pandas as pd"
   ]
  },
  {
   "cell_type": "markdown",
   "id": "bfeeef87-aaa8-4c40-84ad-279d3abdd08c",
   "metadata": {},
   "source": [
    "Data sanity checks"
   ]
  },
  {
   "cell_type": "code",
   "execution_count": 68,
   "id": "d6e28ff3-1be4-44a9-9803-f81b3509f092",
   "metadata": {},
   "outputs": [
    {
     "data": {
      "text/html": [
       "<div>\n",
       "<style scoped>\n",
       "    .dataframe tbody tr th:only-of-type {\n",
       "        vertical-align: middle;\n",
       "    }\n",
       "\n",
       "    .dataframe tbody tr th {\n",
       "        vertical-align: top;\n",
       "    }\n",
       "\n",
       "    .dataframe thead th {\n",
       "        text-align: right;\n",
       "    }\n",
       "</style>\n",
       "<table border=\"1\" class=\"dataframe\">\n",
       "  <thead>\n",
       "    <tr style=\"text-align: right;\">\n",
       "      <th></th>\n",
       "      <th>address</th>\n",
       "      <th>created</th>\n",
       "      <th>verified</th>\n",
       "      <th>renounced</th>\n",
       "      <th>marketcap</th>\n",
       "      <th>buys</th>\n",
       "      <th>sells</th>\n",
       "      <th>buysell_rating</th>\n",
       "      <th>honeypot</th>\n",
       "      <th>buytax</th>\n",
       "      <th>...</th>\n",
       "      <th>taxrating</th>\n",
       "      <th>liquidity</th>\n",
       "      <th>owner</th>\n",
       "      <th>owner_rating</th>\n",
       "      <th>deployer_balance</th>\n",
       "      <th>deployer_tx</th>\n",
       "      <th>funding_source</th>\n",
       "      <th>funding_amount</th>\n",
       "      <th>max_wallet</th>\n",
       "      <th>max_tx</th>\n",
       "    </tr>\n",
       "  </thead>\n",
       "  <tbody>\n",
       "    <tr>\n",
       "      <th>0</th>\n",
       "      <td>0xa190700f5ae95de4eabf29fa9469bd85ff5a7919</td>\n",
       "      <td>&lt;t:1667604491:R&gt;</td>\n",
       "      <td>True</td>\n",
       "      <td>Not Ownable</td>\n",
       "      <td>$9,755</td>\n",
       "      <td>100</td>\n",
       "      <td>24</td>\n",
       "      <td>green</td>\n",
       "      <td>True</td>\n",
       "      <td>5%</td>\n",
       "      <td>...</td>\n",
       "      <td>green</td>\n",
       "      <td>7958</td>\n",
       "      <td>Unicrypt</td>\n",
       "      <td>green</td>\n",
       "      <td>0.06Ξ</td>\n",
       "      <td>18</td>\n",
       "      <td>:yellow_circle: [0x04af…65fd](https://ethersca...</td>\n",
       "      <td>0.03Ξ</td>\n",
       "      <td>2% | 20000000</td>\n",
       "      <td>1% | 10000000</td>\n",
       "    </tr>\n",
       "    <tr>\n",
       "      <th>1</th>\n",
       "      <td>0x9de736b02f3d09738ac42cdea046b014b0d54d60</td>\n",
       "      <td>&lt;t:1667604059:R&gt;</td>\n",
       "      <td>True</td>\n",
       "      <td>False</td>\n",
       "      <td>$21,924</td>\n",
       "      <td>90</td>\n",
       "      <td>19</td>\n",
       "      <td>green</td>\n",
       "      <td>True</td>\n",
       "      <td>3%</td>\n",
       "      <td>...</td>\n",
       "      <td>green</td>\n",
       "      <td>8947</td>\n",
       "      <td>Unicrypt</td>\n",
       "      <td>green</td>\n",
       "      <td>0.61Ξ</td>\n",
       "      <td>9</td>\n",
       "      <td>:green_circle: [Binance 14](https://etherscan....</td>\n",
       "      <td>0.75Ξ</td>\n",
       "      <td>2% | 2000000</td>\n",
       "      <td>100% | 100000000000000000</td>\n",
       "    </tr>\n",
       "    <tr>\n",
       "      <th>2</th>\n",
       "      <td>0xaaf8a1aad53c9384be3aecb5a16af6121a5ad935</td>\n",
       "      <td>&lt;t:1667603939:R&gt;</td>\n",
       "      <td>True</td>\n",
       "      <td>Not Ownable</td>\n",
       "      <td>$8,951</td>\n",
       "      <td>27</td>\n",
       "      <td>7</td>\n",
       "      <td>yellow</td>\n",
       "      <td>True</td>\n",
       "      <td>0%</td>\n",
       "      <td>...</td>\n",
       "      <td>green</td>\n",
       "      <td>7680</td>\n",
       "      <td>Team Finance</td>\n",
       "      <td>green</td>\n",
       "      <td>0.19Ξ</td>\n",
       "      <td>9</td>\n",
       "      <td>:yellow_circle: [Binance 15](https://etherscan...</td>\n",
       "      <td>1.34Ξ</td>\n",
       "      <td>-</td>\n",
       "      <td>-</td>\n",
       "    </tr>\n",
       "  </tbody>\n",
       "</table>\n",
       "<p>3 rows × 21 columns</p>\n",
       "</div>"
      ],
      "text/plain": [
       "                                      address           created  verified  \\\n",
       "0  0xa190700f5ae95de4eabf29fa9469bd85ff5a7919  <t:1667604491:R>      True   \n",
       "1  0x9de736b02f3d09738ac42cdea046b014b0d54d60  <t:1667604059:R>      True   \n",
       "2  0xaaf8a1aad53c9384be3aecb5a16af6121a5ad935  <t:1667603939:R>      True   \n",
       "\n",
       "     renounced marketcap  buys  sells buysell_rating honeypot buytax  ...  \\\n",
       "0  Not Ownable    $9,755   100     24          green     True     5%  ...   \n",
       "1        False   $21,924    90     19          green     True     3%  ...   \n",
       "2  Not Ownable    $8,951    27      7         yellow     True     0%  ...   \n",
       "\n",
       "  taxrating liquidity         owner owner_rating deployer_balance deployer_tx  \\\n",
       "0     green      7958      Unicrypt        green            0.06Ξ          18   \n",
       "1     green      8947      Unicrypt        green            0.61Ξ           9   \n",
       "2     green      7680  Team Finance        green            0.19Ξ           9   \n",
       "\n",
       "                                      funding_source funding_amount  \\\n",
       "0  :yellow_circle: [0x04af…65fd](https://ethersca...          0.03Ξ   \n",
       "1  :green_circle: [Binance 14](https://etherscan....          0.75Ξ   \n",
       "2  :yellow_circle: [Binance 15](https://etherscan...          1.34Ξ   \n",
       "\n",
       "      max_wallet                     max_tx  \n",
       "0  2% | 20000000              1% | 10000000  \n",
       "1   2% | 2000000  100% | 100000000000000000  \n",
       "2              -                          -  \n",
       "\n",
       "[3 rows x 21 columns]"
      ]
     },
     "execution_count": 68,
     "metadata": {},
     "output_type": "execute_result"
    }
   ],
   "source": [
    "df = pd.read_csv('../data/discord_data.csv')\n",
    "df.head(3)"
   ]
  },
  {
   "cell_type": "code",
   "execution_count": 173,
   "id": "a5bea325-7b6a-40fe-808b-207a56b62019",
   "metadata": {},
   "outputs": [
    {
     "data": {
      "text/plain": [
       "60237"
      ]
     },
     "execution_count": 173,
     "metadata": {},
     "output_type": "execute_result"
    }
   ],
   "source": [
    "len(df)"
   ]
  },
  {
   "cell_type": "markdown",
   "id": "4493b0da-0169-4e65-a812-4799b4f5b58e",
   "metadata": {},
   "source": [
    "Some links if interested in more information on Dune:\n",
    "- app: https://dune.com/MatteoLeibowitz/uniswap-community\n",
    "- api: https://dune.com/docs/api/quick-start/api-py/\n",
    "\n",
    "Due to Dune api limits, and the time/resource limitations for this project. Were going to add a little finesse to our approach.\n",
    "\n",
    "While making raw requests with Dunes api can be tedious and resource heavy, we can actually create custom SQL querys within Dune, save those querys, and call on their results remotely. \n",
    "\n",
    "Additionally, we can upload data, in this case we will upload our token address link so our SQL query knows which tokens to filter it's response for.\n",
    "\n",
    "Due to upload size limitations, we've made 4 dune accounts, split our data into 4, and uploaded 4 files."
   ]
  },
  {
   "cell_type": "code",
   "execution_count": 79,
   "id": "5c1a8ec1-ca10-4574-9d50-e846daee0e0e",
   "metadata": {},
   "outputs": [
    {
     "data": {
      "text/plain": [
       "15059.25"
      ]
     },
     "execution_count": 79,
     "metadata": {},
     "output_type": "execute_result"
    }
   ],
   "source": [
    "len(df) / 4"
   ]
  },
  {
   "cell_type": "code",
   "execution_count": 70,
   "id": "773bf2bb-7c24-469e-b6e7-baeb5b76dc20",
   "metadata": {},
   "outputs": [],
   "source": [
    "token_addresses = df['address']\n",
    "address_df = pd.DataFrame(token_addresses)"
   ]
  },
  {
   "cell_type": "code",
   "execution_count": 180,
   "id": "2ad950fa-ec3e-4ee7-8101-83103f0e3512",
   "metadata": {},
   "outputs": [],
   "source": [
    "# give index column a name so it can be selected in Dune sql interface\n",
    "address_df.index.name = 'col_id'"
   ]
  },
  {
   "cell_type": "code",
   "execution_count": 77,
   "id": "88c9148a-3aac-433b-b2ac-c64f49e7d30b",
   "metadata": {},
   "outputs": [],
   "source": [
    "total_rows = len(original_df)\n",
    "part_size = total_rows // 4\n",
    "\n",
    "part1 = address_df.iloc[:part_size]\n",
    "part2 = address_df.iloc[part_size: 2 * part_size]\n",
    "part3 = address_df.iloc[2 * part_size: 3 * part_size]\n",
    "part4 = address_df.iloc[3 * part_size:]\n",
    "\n",
    "part1.to_csv('../data/token_address_dune/token_1.csv')\n",
    "part2.to_csv('../data/token_address_dune/token_2.csv')  \n",
    "part3.to_csv('../data/token_address_dune/token_3.csv') \n",
    "part4.to_csv('../data/token_address_dune/token_4.csv')"
   ]
  },
  {
   "cell_type": "code",
   "execution_count": 81,
   "id": "042cd497-ff1a-4796-a50d-e2ac34a8dca7",
   "metadata": {},
   "outputs": [
    {
     "data": {
      "text/html": [
       "<div>\n",
       "<style scoped>\n",
       "    .dataframe tbody tr th:only-of-type {\n",
       "        vertical-align: middle;\n",
       "    }\n",
       "\n",
       "    .dataframe tbody tr th {\n",
       "        vertical-align: top;\n",
       "    }\n",
       "\n",
       "    .dataframe thead th {\n",
       "        text-align: right;\n",
       "    }\n",
       "</style>\n",
       "<table border=\"1\" class=\"dataframe\">\n",
       "  <thead>\n",
       "    <tr style=\"text-align: right;\">\n",
       "      <th></th>\n",
       "      <th>col_id</th>\n",
       "      <th>address</th>\n",
       "    </tr>\n",
       "  </thead>\n",
       "  <tbody>\n",
       "    <tr>\n",
       "      <th>15054</th>\n",
       "      <td>15054</td>\n",
       "      <td>0x24E9274A44662D69db29EeACd3B488b19E6d8D62</td>\n",
       "    </tr>\n",
       "    <tr>\n",
       "      <th>15055</th>\n",
       "      <td>15055</td>\n",
       "      <td>0x2b4CD48A635603802dE98E76357f4C553497E865</td>\n",
       "    </tr>\n",
       "    <tr>\n",
       "      <th>15056</th>\n",
       "      <td>15056</td>\n",
       "      <td>0xBa3e91774cF19E35757B94Ea1D3a6e8e69F7B9C4</td>\n",
       "    </tr>\n",
       "    <tr>\n",
       "      <th>15057</th>\n",
       "      <td>15057</td>\n",
       "      <td>0xac5B8295E20989993dee2C3a0d8522Da387FCabE</td>\n",
       "    </tr>\n",
       "    <tr>\n",
       "      <th>15058</th>\n",
       "      <td>15058</td>\n",
       "      <td>0xD64eaFE2d1280f756cd5474285cd0273d7FAfb0c</td>\n",
       "    </tr>\n",
       "  </tbody>\n",
       "</table>\n",
       "</div>"
      ],
      "text/plain": [
       "       col_id                                     address\n",
       "15054   15054  0x24E9274A44662D69db29EeACd3B488b19E6d8D62\n",
       "15055   15055  0x2b4CD48A635603802dE98E76357f4C553497E865\n",
       "15056   15056  0xBa3e91774cF19E35757B94Ea1D3a6e8e69F7B9C4\n",
       "15057   15057  0xac5B8295E20989993dee2C3a0d8522Da387FCabE\n",
       "15058   15058  0xD64eaFE2d1280f756cd5474285cd0273d7FAfb0c"
      ]
     },
     "execution_count": 81,
     "metadata": {},
     "output_type": "execute_result"
    }
   ],
   "source": [
    "#sanity check\n",
    "part_1 = pd.read_csv('../data/token_address_dune/token_1.csv')\n",
    "part_1.tail()"
   ]
  },
  {
   "cell_type": "markdown",
   "id": "4b70baa7-4418-4c55-9f5b-33b5a18aed27",
   "metadata": {},
   "source": [
    "Now that we have everything set up in dune, let's get our data:"
   ]
  },
  {
   "cell_type": "code",
   "execution_count": null,
   "id": "d34df8f3-4645-4db1-b881-d7abbc05f637",
   "metadata": {},
   "outputs": [],
   "source": [
    "pip install dune-client"
   ]
  },
  {
   "cell_type": "code",
   "execution_count": 59,
   "id": "5c64e779-f83b-4221-9484-a7d74ba4ab76",
   "metadata": {},
   "outputs": [],
   "source": [
    "ath_data = pd.DataFrame()"
   ]
  },
  {
   "cell_type": "code",
   "execution_count": 151,
   "id": "8decb8f8-9e24-4738-b0f6-2dd42746a433",
   "metadata": {},
   "outputs": [],
   "source": [
    "counter = 45177 # Since we have 4 files uploaded, we know we need to update our query roughly every 15000 calls (len(df) / 4)"
   ]
  },
  {
   "cell_type": "code",
   "execution_count": 1,
   "id": "af95286b-fa74-4b94-bcbd-e831cd9bc766",
   "metadata": {},
   "outputs": [],
   "source": [
    "from dune_client.types import QueryParameter\n",
    "from dune_client.client import DuneClient\n",
    "from dune_client.query import QueryBase\n",
    "\n",
    "dune = DuneClient(api_key='api key here', base_url='https://api.dune.com', request_timeout=10)\n",
    "\n",
    "while counter < 60500:\n",
    "    query = QueryBase(\n",
    "        name=\"token_ath_data\", \n",
    "        query_id=3322121,\n",
    "        params=[\n",
    "            QueryParameter.number_type(name=\"start_param\", value=counter),\n",
    "            QueryParameter.number_type(name=\"end_param\", value=counter+500)\n",
    "        ]\n",
    "    )\n",
    "    results_df = dune.run_query_dataframe(query)\n",
    "\n",
    "    ath_data = pd.concat([ath_data, results_df], ignore_index=True)\n",
    "    counter += 500"
   ]
  },
  {
   "cell_type": "markdown",
   "id": "f55a5d7d-690a-42b1-83af-fef2fb6920bd",
   "metadata": {},
   "source": [
    "Let's sanity check and take a quick look at our data:"
   ]
  },
  {
   "cell_type": "code",
   "execution_count": 174,
   "id": "ef7725e9-3ae9-4688-badb-d12eb17d1af7",
   "metadata": {},
   "outputs": [
    {
     "data": {
      "text/html": [
       "<div>\n",
       "<style scoped>\n",
       "    .dataframe tbody tr th:only-of-type {\n",
       "        vertical-align: middle;\n",
       "    }\n",
       "\n",
       "    .dataframe tbody tr th {\n",
       "        vertical-align: top;\n",
       "    }\n",
       "\n",
       "    .dataframe thead th {\n",
       "        text-align: right;\n",
       "    }\n",
       "</style>\n",
       "<table border=\"1\" class=\"dataframe\">\n",
       "  <thead>\n",
       "    <tr style=\"text-align: right;\">\n",
       "      <th></th>\n",
       "      <th>token_bought_address</th>\n",
       "      <th>block_date</th>\n",
       "      <th>price</th>\n",
       "    </tr>\n",
       "  </thead>\n",
       "  <tbody>\n",
       "    <tr>\n",
       "      <th>0</th>\n",
       "      <td>0xca9b6c538171a011f7da4918c253267c174da0b8</td>\n",
       "      <td>2022-11-06</td>\n",
       "      <td>0.000003</td>\n",
       "    </tr>\n",
       "    <tr>\n",
       "      <th>1</th>\n",
       "      <td>0xb61c900c8ed056e28b7c320af461725648741f17</td>\n",
       "      <td>2022-11-06</td>\n",
       "      <td>0.000050</td>\n",
       "    </tr>\n",
       "    <tr>\n",
       "      <th>2</th>\n",
       "      <td>0x28232b3396c34ba06cbe879a21f7d2299d597e82</td>\n",
       "      <td>2022-11-07</td>\n",
       "      <td>0.000008</td>\n",
       "    </tr>\n",
       "    <tr>\n",
       "      <th>3</th>\n",
       "      <td>0xa95b2d0897e93cc5bd84f062c15e3a4812a067f5</td>\n",
       "      <td>2022-11-05</td>\n",
       "      <td>0.000029</td>\n",
       "    </tr>\n",
       "    <tr>\n",
       "      <th>4</th>\n",
       "      <td>0xcd31e0359e1f611b3166144766a15babfbaced9c</td>\n",
       "      <td>2022-11-06</td>\n",
       "      <td>0.000008</td>\n",
       "    </tr>\n",
       "    <tr>\n",
       "      <th>...</th>\n",
       "      <td>...</td>\n",
       "      <td>...</td>\n",
       "      <td>...</td>\n",
       "    </tr>\n",
       "    <tr>\n",
       "      <th>60138</th>\n",
       "      <td>0xd3e5aeecb5f8b299ef4e63ac2a3144dfa4f9578d</td>\n",
       "      <td>2023-12-29</td>\n",
       "      <td>0.001295</td>\n",
       "    </tr>\n",
       "    <tr>\n",
       "      <th>60139</th>\n",
       "      <td>0x7a0db13ebc5ecf21a750934707f266b187562e05</td>\n",
       "      <td>2023-12-29</td>\n",
       "      <td>0.000485</td>\n",
       "    </tr>\n",
       "    <tr>\n",
       "      <th>60140</th>\n",
       "      <td>0x8079db2a4abbb7a24cedb636cc1128ab6a2719ee</td>\n",
       "      <td>2023-12-29</td>\n",
       "      <td>0.000002</td>\n",
       "    </tr>\n",
       "    <tr>\n",
       "      <th>60141</th>\n",
       "      <td>0x5b506482324124132488cde2f497a7b7279dde0b</td>\n",
       "      <td>2023-12-29</td>\n",
       "      <td>0.003028</td>\n",
       "    </tr>\n",
       "    <tr>\n",
       "      <th>60142</th>\n",
       "      <td>0x6f6382f241e3c6ee0e9bee2390d91a73adc0afff</td>\n",
       "      <td>2023-12-29</td>\n",
       "      <td>0.012089</td>\n",
       "    </tr>\n",
       "  </tbody>\n",
       "</table>\n",
       "<p>60143 rows × 3 columns</p>\n",
       "</div>"
      ],
      "text/plain": [
       "                             token_bought_address  block_date     price\n",
       "0      0xca9b6c538171a011f7da4918c253267c174da0b8  2022-11-06  0.000003\n",
       "1      0xb61c900c8ed056e28b7c320af461725648741f17  2022-11-06  0.000050\n",
       "2      0x28232b3396c34ba06cbe879a21f7d2299d597e82  2022-11-07  0.000008\n",
       "3      0xa95b2d0897e93cc5bd84f062c15e3a4812a067f5  2022-11-05  0.000029\n",
       "4      0xcd31e0359e1f611b3166144766a15babfbaced9c  2022-11-06  0.000008\n",
       "...                                           ...         ...       ...\n",
       "60138  0xd3e5aeecb5f8b299ef4e63ac2a3144dfa4f9578d  2023-12-29  0.001295\n",
       "60139  0x7a0db13ebc5ecf21a750934707f266b187562e05  2023-12-29  0.000485\n",
       "60140  0x8079db2a4abbb7a24cedb636cc1128ab6a2719ee  2023-12-29  0.000002\n",
       "60141  0x5b506482324124132488cde2f497a7b7279dde0b  2023-12-29  0.003028\n",
       "60142  0x6f6382f241e3c6ee0e9bee2390d91a73adc0afff  2023-12-29  0.012089\n",
       "\n",
       "[60143 rows x 3 columns]"
      ]
     },
     "execution_count": 174,
     "metadata": {},
     "output_type": "execute_result"
    }
   ],
   "source": [
    " ath_data"
   ]
  },
  {
   "cell_type": "code",
   "execution_count": 175,
   "id": "21ab7e0b-517f-44c7-a96d-4dfeb64c89b4",
   "metadata": {},
   "outputs": [],
   "source": [
    "ath_data.to_csv('../data/ath_price_data.csv', index=False)"
   ]
  },
  {
   "cell_type": "markdown",
   "id": "2ebb2d22-1043-40fc-bff9-7f54f843f517",
   "metadata": {},
   "source": [
    "We now have the all time high price and dates for our tokens. We've exported this as a csv to merge with the rest of our data.\n",
    "\n",
    "But first, we have to address a problem:\n",
    "\n",
    "We want to measure growth in some way, but we have:\n",
    "- starting marketcap\n",
    "- all time high price\n",
    "\n",
    "As tokens grow at various rates due to liquidity and price impact. \n",
    "In short:\n",
    "\n",
    "These are **NOT** comparable metrics\n",
    "\n",
    "So how can we calculate the all time high marketcap? \n",
    "\n",
    "We can use the all time high price, and find the total supply of tokens (shares) and multiple those two metrics to find our all time high marketcap.\n",
    "\n",
    "We will be scraping this information from an app called Defined, the process can be seen here: **['defined_scrape_step_4'](./defined_scrape_step_4.ipynb)**"
   ]
  },
  {
   "cell_type": "code",
   "execution_count": null,
   "id": "5ecc28e3-dcf4-4dd6-bdd9-713b0a9a6187",
   "metadata": {},
   "outputs": [],
   "source": []
  }
 ],
 "metadata": {
  "kernelspec": {
   "display_name": "Python 3 (ipykernel)",
   "language": "python",
   "name": "python3"
  },
  "language_info": {
   "codemirror_mode": {
    "name": "ipython",
    "version": 3
   },
   "file_extension": ".py",
   "mimetype": "text/x-python",
   "name": "python",
   "nbconvert_exporter": "python",
   "pygments_lexer": "ipython3",
   "version": "3.8.18"
  }
 },
 "nbformat": 4,
 "nbformat_minor": 5
}
