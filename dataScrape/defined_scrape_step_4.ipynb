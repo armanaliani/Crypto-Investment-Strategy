{
 "cells": [
  {
   "cell_type": "markdown",
   "id": "dc1070a6-6198-4155-8473-38455e538985",
   "metadata": {},
   "source": [
    "# Defined Scrape\n",
    "#### Step 4"
   ]
  },
  {
   "cell_type": "markdown",
   "id": "4274e2fa-29b2-46a9-aec2-0aa303048b8f",
   "metadata": {},
   "source": [
    "With our general data collected, we need a way to measure growth. As mentioned in step 3, we will be getting token supply data from defined to make this calculation. \n",
    "\n",
    "More information on Defined api here: https://docs.defined.fi/reference/overview"
   ]
  },
  {
   "cell_type": "code",
   "execution_count": 1,
   "id": "0d38c6e4-043d-410a-8d5b-0bcf32b42cd1",
   "metadata": {},
   "outputs": [],
   "source": [
    "import pandas as pd\n",
    "import requests\n",
    "import json\n",
    "import time"
   ]
  },
  {
   "cell_type": "markdown",
   "id": "5daa1c8e-06b1-4ecc-bf9a-2230e93fd8d9",
   "metadata": {},
   "source": [
    "Sanity check of data, checking types and count"
   ]
  },
  {
   "cell_type": "code",
   "execution_count": 4,
   "id": "ed0553c3-7cfb-4553-8727-2bc0fcfd82e2",
   "metadata": {},
   "outputs": [],
   "source": [
    "df = pd.read_csv('../data/ath_price_data.csv') # from dune_scrape"
   ]
  },
  {
   "cell_type": "code",
   "execution_count": 5,
   "id": "3eea75e7-36b4-4a75-982d-357c1f3576f2",
   "metadata": {},
   "outputs": [
    {
     "name": "stdout",
     "output_type": "stream",
     "text": [
      "<class 'pandas.core.frame.DataFrame'>\n",
      "RangeIndex: 60143 entries, 0 to 60142\n",
      "Data columns (total 3 columns):\n",
      " #   Column                Non-Null Count  Dtype  \n",
      "---  ------                --------------  -----  \n",
      " 0   token_bought_address  60143 non-null  object \n",
      " 1   block_date            60143 non-null  object \n",
      " 2   price                 60143 non-null  float64\n",
      "dtypes: float64(1), object(2)\n",
      "memory usage: 1.4+ MB\n"
     ]
    }
   ],
   "source": [
    "df.info()"
   ]
  },
  {
   "cell_type": "markdown",
   "id": "e99b9e90-2f63-42e1-b315-fa12b1b636cd",
   "metadata": {},
   "source": [
    "Let's begin our scrape\n",
    "\n",
    "As is the trend with many crypto related apis, limits are quite tight.\n",
    "\n",
    "We will be using a similar multi account workaround as we did with Dune.\n",
    "\n",
    "All information will be stored in our list, and iterations will let us know when api keys need to be switched, we'll also be using the iteration count to set our starting point for the scape as it will need to be rerun when switching keys."
   ]
  },
  {
   "cell_type": "code",
   "execution_count": 11,
   "id": "518302d3-a910-446a-a541-399e9e0c6be1",
   "metadata": {},
   "outputs": [],
   "source": [
    "defined_api_res = []"
   ]
  },
  {
   "cell_type": "code",
   "execution_count": null,
   "id": "53c81b91-6941-4911-975a-b274fdfd4cc1",
   "metadata": {},
   "outputs": [],
   "source": [
    "iterations_acc_1 = 50000"
   ]
  },
  {
   "cell_type": "code",
   "execution_count": 2,
   "id": "a3d6fff4-b902-40e6-8396-f25241f4d8d0",
   "metadata": {},
   "outputs": [],
   "source": [
    "url = \"https://graph.defined.fi/graphql\"\n",
    "\n",
    "headers = {\n",
    "  \"content_type\":\"application/json\",\n",
    "  \"Authorization\": \"ceca6928a7b744249c4f43af3867047f13e58710\"\n",
    "}\n",
    "\n",
    "for index, row in df.iloc[iterations_acc_1:].iterrows():\n",
    "    value = row['token_bought_address']\n",
    "\n",
    "    getNetworks = f\"\"\"\n",
    "    query {{\n",
    "      token(input: {{ address: \"{value}\", networkId: 1 }}) {{\n",
    "        address\n",
    "        name\n",
    "        symbol\n",
    "        totalSupply\n",
    "        info {{\n",
    "          circulatingSupply\n",
    "        }}\n",
    "        explorerData {{\n",
    "          blueCheckmark\n",
    "        }}\n",
    "      }}\n",
    "    }}\n",
    "    \"\"\"\n",
    "    \n",
    "    response = requests.post(url, headers=headers, json={\"query\": getNetworks})\n",
    "\n",
    "    if response.status_code == 200:\n",
    "        defined_api_results.append(json.loads(response.text))\n",
    "        # progress sanity check\n",
    "        print(len(defined_api_results))\n",
    "        # track successful iterations only\n",
    "        iterations_acc_1 += 1\n",
    "    else:\n",
    "        print(f\"Request failed for index {index}. Status code: {response.status_code}\")\n",
    "        break\n",
    "\n",
    "    time.sleep(0.25)"
   ]
  },
  {
   "cell_type": "markdown",
   "id": "28fb7479-4b44-4228-825c-0e0a764d7e4e",
   "metadata": {},
   "source": [
    "Sanity checks:"
   ]
  },
  {
   "cell_type": "code",
   "execution_count": 111,
   "id": "aa4882dd-36ed-4f3f-83f1-ad5d2e619f68",
   "metadata": {},
   "outputs": [
    {
     "data": {
      "text/plain": [
       "60144"
      ]
     },
     "execution_count": 111,
     "metadata": {},
     "output_type": "execute_result"
    }
   ],
   "source": [
    "len(defined_api_results)"
   ]
  },
  {
   "cell_type": "code",
   "execution_count": 113,
   "id": "058a410b-0776-4590-b885-0cb24c6f65fb",
   "metadata": {},
   "outputs": [
    {
     "data": {
      "text/plain": [
       "{'data': {'token': {'address': '0x6f6382f241e3c6ee0e9bee2390d91a73adc0afff',\n",
       "   'name': 'Teenage Mutant Ninja Turtles',\n",
       "   'symbol': 'TMNT',\n",
       "   'totalSupply': '1000000000',\n",
       "   'info': {'circulatingSupply': None},\n",
       "   'explorerData': {'blueCheckmark': True}}}}"
      ]
     },
     "execution_count": 113,
     "metadata": {},
     "output_type": "execute_result"
    }
   ],
   "source": [
    "#sanity check\n",
    "defined_api_results[60143]"
   ]
  },
  {
   "cell_type": "markdown",
   "id": "951c127a-2629-419a-a211-1e60ac29bfb9",
   "metadata": {},
   "source": [
    "During the scrape, we encountered some unexpected data during testing, let's ensure these don't slip through:"
   ]
  },
  {
   "cell_type": "code",
   "execution_count": 127,
   "id": "3924b2eb-6eaf-4bc3-b49a-8a02cc0b7a30",
   "metadata": {},
   "outputs": [],
   "source": [
    "count = 0\n",
    "\n",
    "for item in defined_api_results:\n",
    "    if item['data'] == None:\n",
    "        count += 1"
   ]
  },
  {
   "cell_type": "code",
   "execution_count": 128,
   "id": "3ff1d85e-d945-487d-a854-d995b6b55700",
   "metadata": {},
   "outputs": [
    {
     "data": {
      "text/plain": [
       "9"
      ]
     },
     "execution_count": 128,
     "metadata": {},
     "output_type": "execute_result"
    }
   ],
   "source": [
    "count"
   ]
  },
  {
   "cell_type": "markdown",
   "id": "26c384ee-f8cb-461e-9090-682eeb3bae1e",
   "metadata": {},
   "source": [
    "9 tokens with unexpected structure, meaning defined api was not able to get token information"
   ]
  },
  {
   "cell_type": "code",
   "execution_count": 129,
   "id": "63417c98-b207-4fec-a595-59062b284534",
   "metadata": {},
   "outputs": [],
   "source": [
    "filtered_api_res = [item for item in defined_api_results if item['data'] is not None]"
   ]
  },
  {
   "cell_type": "code",
   "execution_count": 130,
   "id": "7d8af089-223f-4636-ab8b-fa9f34f3aadc",
   "metadata": {},
   "outputs": [
    {
     "data": {
      "text/plain": [
       "60135"
      ]
     },
     "execution_count": 130,
     "metadata": {},
     "output_type": "execute_result"
    }
   ],
   "source": [
    "len(filtered_api_res) # compare before and after filter length"
   ]
  },
  {
   "cell_type": "markdown",
   "id": "4dccd112-c330-4c7c-9762-dcc629abf722",
   "metadata": {},
   "source": [
    "Let's also filter for None type data:"
   ]
  },
  {
   "cell_type": "code",
   "execution_count": 131,
   "id": "230e3a87-6b08-4791-9389-3b1f39bf93d8",
   "metadata": {},
   "outputs": [],
   "source": [
    "new_count = 0\n",
    "\n",
    "for item in filtered_api_res:\n",
    "    if item['data']['token']['info']['circulatingSupply'] == None:\n",
    "        new_count += 1"
   ]
  },
  {
   "cell_type": "code",
   "execution_count": 132,
   "id": "cbba1984-9844-4863-acdd-7ed996579955",
   "metadata": {},
   "outputs": [
    {
     "data": {
      "text/plain": [
       "59561"
      ]
     },
     "execution_count": 132,
     "metadata": {},
     "output_type": "execute_result"
    }
   ],
   "source": [
    "new_count"
   ]
  },
  {
   "cell_type": "markdown",
   "id": "050be991-edda-4714-a558-64164dab8d31",
   "metadata": {},
   "source": [
    "Vast majority of the datapoints have no data for circulatingSupply"
   ]
  },
  {
   "cell_type": "markdown",
   "id": "600af2fd-004e-4da6-aef2-e4536405400e",
   "metadata": {},
   "source": [
    "While performing regular checks on scraper data, I could only recall ever seeing the blueCheckmark value as True\n",
    "\n",
    "Let's see how many datapoints have it as True to guage if its worth keeping for potential insights"
   ]
  },
  {
   "cell_type": "code",
   "execution_count": 133,
   "id": "06f31a55-498c-4a54-9116-8eefbee961f3",
   "metadata": {},
   "outputs": [],
   "source": [
    "blue_count = 0\n",
    "\n",
    "for item in filtered_api_res:\n",
    "    if item['data']['token']['explorerData']['blueCheckmark'] == True:\n",
    "        blue_count += 1"
   ]
  },
  {
   "cell_type": "code",
   "execution_count": 134,
   "id": "8f1802e3-76d6-4ea7-be42-c9e8133ef863",
   "metadata": {},
   "outputs": [
    {
     "data": {
      "text/plain": [
       "59863"
      ]
     },
     "execution_count": 134,
     "metadata": {},
     "output_type": "execute_result"
    }
   ],
   "source": [
    "blue_count"
   ]
  },
  {
   "cell_type": "markdown",
   "id": "6c649987-8876-4112-bb68-7bb959ac8cd4",
   "metadata": {},
   "source": [
    "Vast majority also have a Blue Checkmark\n",
    "\n",
    "Therefore we are NOT including'blueCheckmark' and 'circulatingSupply' in our dataFrame"
   ]
  },
  {
   "cell_type": "code",
   "execution_count": 136,
   "id": "67f78852-79c4-4da2-b66d-ffb896afe9dd",
   "metadata": {},
   "outputs": [],
   "source": [
    "values_list = []\n",
    "line_number = 1\n",
    "\n",
    "for item in filtered_api_res:\n",
    "    value_item_list = [\n",
    "        item['data']['token']['address'],\n",
    "        item['data']['token']['name'],\n",
    "        item['data']['token']['symbol'],\n",
    "        item['data']['token']['totalSupply'],\n",
    "    ]\n",
    "\n",
    "    values_list.append(value_item_list)\n",
    "    line_number += 1\n"
   ]
  },
  {
   "cell_type": "markdown",
   "id": "a4c7c7c9-7323-482f-888c-e7545fc8ae9c",
   "metadata": {},
   "source": [
    "Create dataframe"
   ]
  },
  {
   "cell_type": "code",
   "execution_count": 138,
   "id": "974d5221-82ed-4a56-b534-c63638aa235e",
   "metadata": {},
   "outputs": [],
   "source": [
    "columns = ['address', 'name', 'symbol', 'totalSupply']\n",
    "df = pd.DataFrame(values_list, columns=columns)"
   ]
  },
  {
   "cell_type": "markdown",
   "id": "b88c18ee-835f-4beb-89de-2e0c6470d091",
   "metadata": {},
   "source": [
    "Let's see how our data looks:"
   ]
  },
  {
   "cell_type": "code",
   "execution_count": 139,
   "id": "5981358d-235d-4059-8dd3-f60b36941dcb",
   "metadata": {},
   "outputs": [
    {
     "data": {
      "text/html": [
       "<div>\n",
       "<style scoped>\n",
       "    .dataframe tbody tr th:only-of-type {\n",
       "        vertical-align: middle;\n",
       "    }\n",
       "\n",
       "    .dataframe tbody tr th {\n",
       "        vertical-align: top;\n",
       "    }\n",
       "\n",
       "    .dataframe thead th {\n",
       "        text-align: right;\n",
       "    }\n",
       "</style>\n",
       "<table border=\"1\" class=\"dataframe\">\n",
       "  <thead>\n",
       "    <tr style=\"text-align: right;\">\n",
       "      <th></th>\n",
       "      <th>address</th>\n",
       "      <th>name</th>\n",
       "      <th>symbol</th>\n",
       "      <th>totalSupply</th>\n",
       "    </tr>\n",
       "  </thead>\n",
       "  <tbody>\n",
       "    <tr>\n",
       "      <th>0</th>\n",
       "      <td>0xca9b6c538171a011f7da4918c253267c174da0b8</td>\n",
       "      <td>Vine</td>\n",
       "      <td>Vine</td>\n",
       "      <td>1000000000000000000</td>\n",
       "    </tr>\n",
       "    <tr>\n",
       "      <th>1</th>\n",
       "      <td>0xca9b6c538171a011f7da4918c253267c174da0b8</td>\n",
       "      <td>Vine</td>\n",
       "      <td>Vine</td>\n",
       "      <td>1000000000000000000</td>\n",
       "    </tr>\n",
       "    <tr>\n",
       "      <th>2</th>\n",
       "      <td>0xb61c900c8ed056e28b7c320af461725648741f17</td>\n",
       "      <td>8$</td>\n",
       "      <td>8$</td>\n",
       "      <td>100000000</td>\n",
       "    </tr>\n",
       "    <tr>\n",
       "      <th>3</th>\n",
       "      <td>0x28232b3396c34ba06cbe879a21f7d2299d597e82</td>\n",
       "      <td>DOAGE COIN</td>\n",
       "      <td>DOAGE</td>\n",
       "      <td>1000000000</td>\n",
       "    </tr>\n",
       "    <tr>\n",
       "      <th>4</th>\n",
       "      <td>0xa95b2d0897e93cc5bd84f062c15e3a4812a067f5</td>\n",
       "      <td>Ishibashi Inu</td>\n",
       "      <td>$IshibInu</td>\n",
       "      <td>100000000</td>\n",
       "    </tr>\n",
       "    <tr>\n",
       "      <th>...</th>\n",
       "      <td>...</td>\n",
       "      <td>...</td>\n",
       "      <td>...</td>\n",
       "      <td>...</td>\n",
       "    </tr>\n",
       "    <tr>\n",
       "      <th>60130</th>\n",
       "      <td>0xd3e5aeecb5f8b299ef4e63ac2a3144dfa4f9578d</td>\n",
       "      <td>Open Exchange</td>\n",
       "      <td>OPNX</td>\n",
       "      <td>46000000</td>\n",
       "    </tr>\n",
       "    <tr>\n",
       "      <th>60131</th>\n",
       "      <td>0x7a0db13ebc5ecf21a750934707f266b187562e05</td>\n",
       "      <td>PillBot</td>\n",
       "      <td>PILL</td>\n",
       "      <td>1000000000</td>\n",
       "    </tr>\n",
       "    <tr>\n",
       "      <th>60132</th>\n",
       "      <td>0x8079db2a4abbb7a24cedb636cc1128ab6a2719ee</td>\n",
       "      <td>Super Saiyan Coin</td>\n",
       "      <td>SSC</td>\n",
       "      <td>7000000000</td>\n",
       "    </tr>\n",
       "    <tr>\n",
       "      <th>60133</th>\n",
       "      <td>0x5b506482324124132488cde2f497a7b7279dde0b</td>\n",
       "      <td>YUMMY</td>\n",
       "      <td>YUMMY</td>\n",
       "      <td>10000000</td>\n",
       "    </tr>\n",
       "    <tr>\n",
       "      <th>60134</th>\n",
       "      <td>0x6f6382f241e3c6ee0e9bee2390d91a73adc0afff</td>\n",
       "      <td>Teenage Mutant Ninja Turtles</td>\n",
       "      <td>TMNT</td>\n",
       "      <td>1000000000</td>\n",
       "    </tr>\n",
       "  </tbody>\n",
       "</table>\n",
       "<p>60135 rows × 4 columns</p>\n",
       "</div>"
      ],
      "text/plain": [
       "                                          address  \\\n",
       "0      0xca9b6c538171a011f7da4918c253267c174da0b8   \n",
       "1      0xca9b6c538171a011f7da4918c253267c174da0b8   \n",
       "2      0xb61c900c8ed056e28b7c320af461725648741f17   \n",
       "3      0x28232b3396c34ba06cbe879a21f7d2299d597e82   \n",
       "4      0xa95b2d0897e93cc5bd84f062c15e3a4812a067f5   \n",
       "...                                           ...   \n",
       "60130  0xd3e5aeecb5f8b299ef4e63ac2a3144dfa4f9578d   \n",
       "60131  0x7a0db13ebc5ecf21a750934707f266b187562e05   \n",
       "60132  0x8079db2a4abbb7a24cedb636cc1128ab6a2719ee   \n",
       "60133  0x5b506482324124132488cde2f497a7b7279dde0b   \n",
       "60134  0x6f6382f241e3c6ee0e9bee2390d91a73adc0afff   \n",
       "\n",
       "                               name     symbol          totalSupply  \n",
       "0                              Vine       Vine  1000000000000000000  \n",
       "1                              Vine       Vine  1000000000000000000  \n",
       "2                                8$         8$            100000000  \n",
       "3                        DOAGE COIN      DOAGE           1000000000  \n",
       "4                     Ishibashi Inu  $IshibInu            100000000  \n",
       "...                             ...        ...                  ...  \n",
       "60130                 Open Exchange       OPNX             46000000  \n",
       "60131                       PillBot       PILL           1000000000  \n",
       "60132             Super Saiyan Coin        SSC           7000000000  \n",
       "60133                         YUMMY      YUMMY             10000000  \n",
       "60134  Teenage Mutant Ninja Turtles       TMNT           1000000000  \n",
       "\n",
       "[60135 rows x 4 columns]"
      ]
     },
     "execution_count": 139,
     "metadata": {},
     "output_type": "execute_result"
    }
   ],
   "source": [
    "df"
   ]
  },
  {
   "cell_type": "code",
   "execution_count": 140,
   "id": "773fa35f-98f6-45b9-89ca-bff6dcc76e30",
   "metadata": {},
   "outputs": [],
   "source": [
    "df.to_csv('../data/defined_data.csv', index=False)"
   ]
  },
  {
   "cell_type": "markdown",
   "id": "c3a67889-8695-4cb6-ac7c-1ffb8bb43de5",
   "metadata": {},
   "source": [
    "Now that we have the token supply information, we can get a measure of growth and work towards creating a target class for our dataset. \n",
    "\n",
    "That process can be found here: **['token_cleaning'](../Research/tokens_cleaning.ipynb)**\n"
   ]
  },
  {
   "cell_type": "code",
   "execution_count": null,
   "id": "dd70688c-4494-43a0-9d6d-68dc0449cc0b",
   "metadata": {},
   "outputs": [],
   "source": []
  }
 ],
 "metadata": {
  "kernelspec": {
   "display_name": "Python 3 (ipykernel)",
   "language": "python",
   "name": "python3"
  },
  "language_info": {
   "codemirror_mode": {
    "name": "ipython",
    "version": 3
   },
   "file_extension": ".py",
   "mimetype": "text/x-python",
   "name": "python",
   "nbconvert_exporter": "python",
   "pygments_lexer": "ipython3",
   "version": "3.8.18"
  }
 },
 "nbformat": 4,
 "nbformat_minor": 5
}
