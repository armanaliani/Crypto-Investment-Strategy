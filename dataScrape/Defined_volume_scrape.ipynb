{
 "cells": [
  {
   "cell_type": "markdown",
   "id": "e0b41d77-f627-4cfa-a089-ce302c0d0bf5",
   "metadata": {},
   "source": [
    "# Scraping Volume from Defined \n",
    "\n",
    "As mentioned in our Data Cleaning process, we will need volume metric to filter out potential scam tokens and determine a more accurate target class.\n",
    "\n",
    "While intially going through with this process. We realize that the Defined volume metrics need a pair_address instead of a regular address. Allow me to explain the difference:\n",
    "- A regular address is a tokens unqiue address on the blockchain\n",
    "- A pair address is for trading, it is a pair of regular addresses, one address for the token you trade, and another address for the asset you trade it with. These assets are typically:\n",
    "    - Eth/Weth\n",
    "    - Usdc (a token that replicates the us dollar, also know as 'stablecoin')\n",
    "\n",
    "Not too worry, we don't need to do too much extra work. Remember our initial discord scrape? Although we didn't use the links in our dataframe we did scrape them into our json file.\n",
    "\n",
    "More on that process here: **['pair_extraction'](./pair_extraction.ipynb)**\n",
    "\n",
    "Table of Contents:<a id=\"Contents\"></a>\n",
    "* [Data sanity](#sanity)\n",
    "* [Scraping Data](#scrape)\n",
    "* [Conclusion & Next Steps](#nextsteps)"
   ]
  },
  {
   "cell_type": "markdown",
   "id": "29e60ae1-ae17-4c1b-9ccb-d7da074bfc51",
   "metadata": {},
   "source": [
    "### Load in Data<a id=\"sanity\"></a>\n",
    "**Sanity checks**\n",
    "<p><a href=\"#Contents\" style=\"font-size: 12px;\">Back to Table of Contents</a></p>"
   ]
  },
  {
   "cell_type": "code",
   "execution_count": 3,
   "id": "a40a7dfa-04cf-4e14-b38e-ee7e06b68375",
   "metadata": {},
   "outputs": [],
   "source": [
    "import pandas as pd\n",
    "\n",
    "import datetime as dt"
   ]
  },
  {
   "cell_type": "code",
   "execution_count": 6,
   "id": "c9f046d6-6a37-4c9f-bf10-ae93c2dcb6e9",
   "metadata": {},
   "outputs": [],
   "source": [
    "# Getting data for target class rows only => from: 'token_cleaning.ipynb'\n",
    "df = pd.read_csv('../data/volume_for_target_addresses.csv')\n",
    "\n",
    "# volume scrape requires pair addresses rather than token addresses, => from: 'pair_extraction.ipynb'\n",
    "df_pairs = pd.read_csv('../data/pair_addresses.csv')"
   ]
  },
  {
   "cell_type": "markdown",
   "id": "02324d27-4ac3-4ce5-9ec3-6e4ab1d5eb51",
   "metadata": {},
   "source": [
    "Ensure all addresses are lowercase for merging"
   ]
  },
  {
   "cell_type": "code",
   "execution_count": 15,
   "id": "6a3ba7f1-448d-464f-9fda-2f84e710a5eb",
   "metadata": {},
   "outputs": [],
   "source": [
    "df['address'] = df['address'].str.lower()\n",
    "df_pairs['address'] = df_pairs['address'].str.lower()"
   ]
  },
  {
   "cell_type": "code",
   "execution_count": 16,
   "id": "0609ad08-9047-4bea-b705-efffc514767c",
   "metadata": {},
   "outputs": [],
   "source": [
    "merged_df = pd.merge(df, df_pairs, on='address', how='inner')"
   ]
  },
  {
   "cell_type": "code",
   "execution_count": 17,
   "id": "aa1837bd-7afd-4641-8a33-d483bac485d8",
   "metadata": {},
   "outputs": [
    {
     "data": {
      "text/html": [
       "<div>\n",
       "<style scoped>\n",
       "    .dataframe tbody tr th:only-of-type {\n",
       "        vertical-align: middle;\n",
       "    }\n",
       "\n",
       "    .dataframe tbody tr th {\n",
       "        vertical-align: top;\n",
       "    }\n",
       "\n",
       "    .dataframe thead th {\n",
       "        text-align: right;\n",
       "    }\n",
       "</style>\n",
       "<table border=\"1\" class=\"dataframe\">\n",
       "  <thead>\n",
       "    <tr style=\"text-align: right;\">\n",
       "      <th></th>\n",
       "      <th>address</th>\n",
       "      <th>alert_timestamp</th>\n",
       "      <th>ath_date</th>\n",
       "      <th>pair_address</th>\n",
       "    </tr>\n",
       "  </thead>\n",
       "  <tbody>\n",
       "    <tr>\n",
       "      <th>0</th>\n",
       "      <td>0x568d77b90622e5be0ae4132edc87e07188f6c19d</td>\n",
       "      <td>2022-11-04</td>\n",
       "      <td>2022-11-06</td>\n",
       "      <td>0x123ad76dba817a1db8f564f392dc120a6f604063</td>\n",
       "    </tr>\n",
       "    <tr>\n",
       "      <th>1</th>\n",
       "      <td>0x50b3cdbb29351c189ddcea87556eddc29535f10c</td>\n",
       "      <td>2022-11-04</td>\n",
       "      <td>2022-11-06</td>\n",
       "      <td>0xbb8ee1a73ca54faa39b95798f22a6bb5f29dfe0e</td>\n",
       "    </tr>\n",
       "    <tr>\n",
       "      <th>2</th>\n",
       "      <td>0xe424c77eff453ea6be368c8480e8ae405868bda2</td>\n",
       "      <td>2022-11-04</td>\n",
       "      <td>2022-11-07</td>\n",
       "      <td>0x944945f428fc38a37e6aaafff1a287eaa38af991</td>\n",
       "    </tr>\n",
       "    <tr>\n",
       "      <th>3</th>\n",
       "      <td>0xfd5d8dab40f60e184426c3dd6a5edc9e7842f375</td>\n",
       "      <td>2022-11-05</td>\n",
       "      <td>2023-02-12</td>\n",
       "      <td>0xac8ffbf156583bc3c9efe1e195547a24adebf151</td>\n",
       "    </tr>\n",
       "    <tr>\n",
       "      <th>4</th>\n",
       "      <td>0x2dc1f8a31080d0d7d03c2c719a02955a3548e478</td>\n",
       "      <td>2022-11-05</td>\n",
       "      <td>2022-11-07</td>\n",
       "      <td>0x5277dbc69a18a7dd1d50204c84659f18379c2681</td>\n",
       "    </tr>\n",
       "    <tr>\n",
       "      <th>...</th>\n",
       "      <td>...</td>\n",
       "      <td>...</td>\n",
       "      <td>...</td>\n",
       "      <td>...</td>\n",
       "    </tr>\n",
       "    <tr>\n",
       "      <th>2403</th>\n",
       "      <td>0x1210c3e3c6296dbf2708f5a4800228236984b475</td>\n",
       "      <td>2023-12-23</td>\n",
       "      <td>2023-12-29</td>\n",
       "      <td>0x7713a5f3e126313689306529d4a5e750c4e51147</td>\n",
       "    </tr>\n",
       "    <tr>\n",
       "      <th>2404</th>\n",
       "      <td>0xac7945a20c3a6629749f40ad57aac77ad9c60fed</td>\n",
       "      <td>2023-12-24</td>\n",
       "      <td>2023-12-27</td>\n",
       "      <td>0xfbd2684d6399e976f53debe465eff2cacfed2528</td>\n",
       "    </tr>\n",
       "    <tr>\n",
       "      <th>2405</th>\n",
       "      <td>0x38e3e9512f669f7297e8d2dd1bbc1a994ee78e4b</td>\n",
       "      <td>2023-12-26</td>\n",
       "      <td>2024-01-01</td>\n",
       "      <td>0xfa4458db8fe0fcef68bc24ec2c55ba76f4d34a5e</td>\n",
       "    </tr>\n",
       "    <tr>\n",
       "      <th>2406</th>\n",
       "      <td>0x98e35f5599b57998900e5e0675721c90a5499327</td>\n",
       "      <td>2023-12-27</td>\n",
       "      <td>2023-12-31</td>\n",
       "      <td>0x996684e437b90e6823730d40dc3e8ff397370e11</td>\n",
       "    </tr>\n",
       "    <tr>\n",
       "      <th>2407</th>\n",
       "      <td>0x5d63f734068264f2a65591d90672443376aae06e</td>\n",
       "      <td>2023-12-29</td>\n",
       "      <td>2024-01-01</td>\n",
       "      <td>0x7bba42ad585929b3d2b70066715b542b479c561f</td>\n",
       "    </tr>\n",
       "  </tbody>\n",
       "</table>\n",
       "<p>2408 rows × 4 columns</p>\n",
       "</div>"
      ],
      "text/plain": [
       "                                         address alert_timestamp    ath_date  \\\n",
       "0     0x568d77b90622e5be0ae4132edc87e07188f6c19d      2022-11-04  2022-11-06   \n",
       "1     0x50b3cdbb29351c189ddcea87556eddc29535f10c      2022-11-04  2022-11-06   \n",
       "2     0xe424c77eff453ea6be368c8480e8ae405868bda2      2022-11-04  2022-11-07   \n",
       "3     0xfd5d8dab40f60e184426c3dd6a5edc9e7842f375      2022-11-05  2023-02-12   \n",
       "4     0x2dc1f8a31080d0d7d03c2c719a02955a3548e478      2022-11-05  2022-11-07   \n",
       "...                                          ...             ...         ...   \n",
       "2403  0x1210c3e3c6296dbf2708f5a4800228236984b475      2023-12-23  2023-12-29   \n",
       "2404  0xac7945a20c3a6629749f40ad57aac77ad9c60fed      2023-12-24  2023-12-27   \n",
       "2405  0x38e3e9512f669f7297e8d2dd1bbc1a994ee78e4b      2023-12-26  2024-01-01   \n",
       "2406  0x98e35f5599b57998900e5e0675721c90a5499327      2023-12-27  2023-12-31   \n",
       "2407  0x5d63f734068264f2a65591d90672443376aae06e      2023-12-29  2024-01-01   \n",
       "\n",
       "                                    pair_address  \n",
       "0     0x123ad76dba817a1db8f564f392dc120a6f604063  \n",
       "1     0xbb8ee1a73ca54faa39b95798f22a6bb5f29dfe0e  \n",
       "2     0x944945f428fc38a37e6aaafff1a287eaa38af991  \n",
       "3     0xac8ffbf156583bc3c9efe1e195547a24adebf151  \n",
       "4     0x5277dbc69a18a7dd1d50204c84659f18379c2681  \n",
       "...                                          ...  \n",
       "2403  0x7713a5f3e126313689306529d4a5e750c4e51147  \n",
       "2404  0xfbd2684d6399e976f53debe465eff2cacfed2528  \n",
       "2405  0xfa4458db8fe0fcef68bc24ec2c55ba76f4d34a5e  \n",
       "2406  0x996684e437b90e6823730d40dc3e8ff397370e11  \n",
       "2407  0x7bba42ad585929b3d2b70066715b542b479c561f  \n",
       "\n",
       "[2408 rows x 4 columns]"
      ]
     },
     "execution_count": 17,
     "metadata": {},
     "output_type": "execute_result"
    }
   ],
   "source": [
    "merged_df"
   ]
  },
  {
   "cell_type": "code",
   "execution_count": 18,
   "id": "baf50055-9e03-4bbb-a846-d94c24c23c9b",
   "metadata": {},
   "outputs": [
    {
     "name": "stdout",
     "output_type": "stream",
     "text": [
      "<class 'pandas.core.frame.DataFrame'>\n",
      "RangeIndex: 2408 entries, 0 to 2407\n",
      "Data columns (total 4 columns):\n",
      " #   Column           Non-Null Count  Dtype \n",
      "---  ------           --------------  ----- \n",
      " 0   address          2408 non-null   object\n",
      " 1   alert_timestamp  2408 non-null   object\n",
      " 2   ath_date         2408 non-null   object\n",
      " 3   pair_address     2408 non-null   object\n",
      "dtypes: object(4)\n",
      "memory usage: 75.4+ KB\n"
     ]
    }
   ],
   "source": [
    "merged_df.info()"
   ]
  },
  {
   "cell_type": "code",
   "execution_count": 19,
   "id": "ae1141f7-f3e9-4b12-b8a5-85381f1c7075",
   "metadata": {},
   "outputs": [
    {
     "data": {
      "text/plain": [
       "address            2408\n",
       "alert_timestamp     413\n",
       "ath_date            419\n",
       "pair_address       2408\n",
       "dtype: int64"
      ]
     },
     "execution_count": 19,
     "metadata": {},
     "output_type": "execute_result"
    }
   ],
   "source": [
    "merged_df.nunique()"
   ]
  },
  {
   "cell_type": "code",
   "execution_count": 20,
   "id": "79404af0-7052-444b-a65a-10505b57ffa4",
   "metadata": {},
   "outputs": [
    {
     "data": {
      "text/plain": [
       "address            0\n",
       "alert_timestamp    0\n",
       "ath_date           0\n",
       "pair_address       0\n",
       "dtype: int64"
      ]
     },
     "execution_count": 20,
     "metadata": {},
     "output_type": "execute_result"
    }
   ],
   "source": [
    "merged_df.isnull().sum()"
   ]
  },
  {
   "cell_type": "markdown",
   "id": "b3aaf23f-2d53-4d2a-a0ca-6621cddc8670",
   "metadata": {},
   "source": [
    "For our Defined api call, in addition to the pair address we also need to use timestamps for historic calls. \n",
    "\n",
    "We need need to convert our date columns:\n",
    "\n",
    "- From String to Datetime\n",
    "- From Datetime subtract Datetime(1970,1,1)\n",
    "- Convert the result to seconds"
   ]
  },
  {
   "cell_type": "code",
   "execution_count": 21,
   "id": "c9d1d5f2-efc9-4bbc-8883-c670d7a91c97",
   "metadata": {},
   "outputs": [],
   "source": [
    "merged_df['ath_date'] = pd.to_datetime(merged_df['ath_date'])\n",
    "merged_df['alert_timestamp'] = pd.to_datetime(merged_df['alert_timestamp'])"
   ]
  },
  {
   "cell_type": "markdown",
   "id": "ba34237d-15a3-4997-ab4f-d2410516c623",
   "metadata": {},
   "source": [
    "rename column to provide clarity / prevent confusion "
   ]
  },
  {
   "cell_type": "code",
   "execution_count": 22,
   "id": "9050e7c9-e097-4e87-917b-99fdc35ce5dd",
   "metadata": {},
   "outputs": [],
   "source": [
    "merged_df.rename(columns={'alert_timestamp': 'alert_date'}, inplace=True)"
   ]
  },
  {
   "cell_type": "code",
   "execution_count": 24,
   "id": "a960b93d-dfb0-45c2-8104-73fe7c73f314",
   "metadata": {},
   "outputs": [],
   "source": [
    "merged_df['ath_price_timestamp'] = (merged_df['ath_date'] - dt.datetime(1970,1,1)).dt.total_seconds().astype(int)\n",
    "merged_df['alert_timestamp'] = (merged_df['alert_date'] - dt.datetime(1970,1,1)).dt.total_seconds().astype(int)"
   ]
  },
  {
   "cell_type": "code",
   "execution_count": 25,
   "id": "53220f14-73a7-4f1c-af2d-d3c5eea31f86",
   "metadata": {},
   "outputs": [
    {
     "data": {
      "text/html": [
       "<div>\n",
       "<style scoped>\n",
       "    .dataframe tbody tr th:only-of-type {\n",
       "        vertical-align: middle;\n",
       "    }\n",
       "\n",
       "    .dataframe tbody tr th {\n",
       "        vertical-align: top;\n",
       "    }\n",
       "\n",
       "    .dataframe thead th {\n",
       "        text-align: right;\n",
       "    }\n",
       "</style>\n",
       "<table border=\"1\" class=\"dataframe\">\n",
       "  <thead>\n",
       "    <tr style=\"text-align: right;\">\n",
       "      <th></th>\n",
       "      <th>address</th>\n",
       "      <th>alert_date</th>\n",
       "      <th>ath_date</th>\n",
       "      <th>pair_address</th>\n",
       "      <th>ath_price_timestamp</th>\n",
       "      <th>alert_timestamp</th>\n",
       "    </tr>\n",
       "  </thead>\n",
       "  <tbody>\n",
       "    <tr>\n",
       "      <th>0</th>\n",
       "      <td>0x568d77b90622e5be0ae4132edc87e07188f6c19d</td>\n",
       "      <td>2022-11-04</td>\n",
       "      <td>2022-11-06</td>\n",
       "      <td>0x123ad76dba817a1db8f564f392dc120a6f604063</td>\n",
       "      <td>1667692800</td>\n",
       "      <td>1667520000</td>\n",
       "    </tr>\n",
       "    <tr>\n",
       "      <th>1</th>\n",
       "      <td>0x50b3cdbb29351c189ddcea87556eddc29535f10c</td>\n",
       "      <td>2022-11-04</td>\n",
       "      <td>2022-11-06</td>\n",
       "      <td>0xbb8ee1a73ca54faa39b95798f22a6bb5f29dfe0e</td>\n",
       "      <td>1667692800</td>\n",
       "      <td>1667520000</td>\n",
       "    </tr>\n",
       "    <tr>\n",
       "      <th>2</th>\n",
       "      <td>0xe424c77eff453ea6be368c8480e8ae405868bda2</td>\n",
       "      <td>2022-11-04</td>\n",
       "      <td>2022-11-07</td>\n",
       "      <td>0x944945f428fc38a37e6aaafff1a287eaa38af991</td>\n",
       "      <td>1667779200</td>\n",
       "      <td>1667520000</td>\n",
       "    </tr>\n",
       "    <tr>\n",
       "      <th>3</th>\n",
       "      <td>0xfd5d8dab40f60e184426c3dd6a5edc9e7842f375</td>\n",
       "      <td>2022-11-05</td>\n",
       "      <td>2023-02-12</td>\n",
       "      <td>0xac8ffbf156583bc3c9efe1e195547a24adebf151</td>\n",
       "      <td>1676160000</td>\n",
       "      <td>1667606400</td>\n",
       "    </tr>\n",
       "    <tr>\n",
       "      <th>4</th>\n",
       "      <td>0x2dc1f8a31080d0d7d03c2c719a02955a3548e478</td>\n",
       "      <td>2022-11-05</td>\n",
       "      <td>2022-11-07</td>\n",
       "      <td>0x5277dbc69a18a7dd1d50204c84659f18379c2681</td>\n",
       "      <td>1667779200</td>\n",
       "      <td>1667606400</td>\n",
       "    </tr>\n",
       "    <tr>\n",
       "      <th>...</th>\n",
       "      <td>...</td>\n",
       "      <td>...</td>\n",
       "      <td>...</td>\n",
       "      <td>...</td>\n",
       "      <td>...</td>\n",
       "      <td>...</td>\n",
       "    </tr>\n",
       "    <tr>\n",
       "      <th>2403</th>\n",
       "      <td>0x1210c3e3c6296dbf2708f5a4800228236984b475</td>\n",
       "      <td>2023-12-23</td>\n",
       "      <td>2023-12-29</td>\n",
       "      <td>0x7713a5f3e126313689306529d4a5e750c4e51147</td>\n",
       "      <td>1703808000</td>\n",
       "      <td>1703289600</td>\n",
       "    </tr>\n",
       "    <tr>\n",
       "      <th>2404</th>\n",
       "      <td>0xac7945a20c3a6629749f40ad57aac77ad9c60fed</td>\n",
       "      <td>2023-12-24</td>\n",
       "      <td>2023-12-27</td>\n",
       "      <td>0xfbd2684d6399e976f53debe465eff2cacfed2528</td>\n",
       "      <td>1703635200</td>\n",
       "      <td>1703376000</td>\n",
       "    </tr>\n",
       "    <tr>\n",
       "      <th>2405</th>\n",
       "      <td>0x38e3e9512f669f7297e8d2dd1bbc1a994ee78e4b</td>\n",
       "      <td>2023-12-26</td>\n",
       "      <td>2024-01-01</td>\n",
       "      <td>0xfa4458db8fe0fcef68bc24ec2c55ba76f4d34a5e</td>\n",
       "      <td>1704067200</td>\n",
       "      <td>1703548800</td>\n",
       "    </tr>\n",
       "    <tr>\n",
       "      <th>2406</th>\n",
       "      <td>0x98e35f5599b57998900e5e0675721c90a5499327</td>\n",
       "      <td>2023-12-27</td>\n",
       "      <td>2023-12-31</td>\n",
       "      <td>0x996684e437b90e6823730d40dc3e8ff397370e11</td>\n",
       "      <td>1703980800</td>\n",
       "      <td>1703635200</td>\n",
       "    </tr>\n",
       "    <tr>\n",
       "      <th>2407</th>\n",
       "      <td>0x5d63f734068264f2a65591d90672443376aae06e</td>\n",
       "      <td>2023-12-29</td>\n",
       "      <td>2024-01-01</td>\n",
       "      <td>0x7bba42ad585929b3d2b70066715b542b479c561f</td>\n",
       "      <td>1704067200</td>\n",
       "      <td>1703808000</td>\n",
       "    </tr>\n",
       "  </tbody>\n",
       "</table>\n",
       "<p>2408 rows × 6 columns</p>\n",
       "</div>"
      ],
      "text/plain": [
       "                                         address alert_date   ath_date  \\\n",
       "0     0x568d77b90622e5be0ae4132edc87e07188f6c19d 2022-11-04 2022-11-06   \n",
       "1     0x50b3cdbb29351c189ddcea87556eddc29535f10c 2022-11-04 2022-11-06   \n",
       "2     0xe424c77eff453ea6be368c8480e8ae405868bda2 2022-11-04 2022-11-07   \n",
       "3     0xfd5d8dab40f60e184426c3dd6a5edc9e7842f375 2022-11-05 2023-02-12   \n",
       "4     0x2dc1f8a31080d0d7d03c2c719a02955a3548e478 2022-11-05 2022-11-07   \n",
       "...                                          ...        ...        ...   \n",
       "2403  0x1210c3e3c6296dbf2708f5a4800228236984b475 2023-12-23 2023-12-29   \n",
       "2404  0xac7945a20c3a6629749f40ad57aac77ad9c60fed 2023-12-24 2023-12-27   \n",
       "2405  0x38e3e9512f669f7297e8d2dd1bbc1a994ee78e4b 2023-12-26 2024-01-01   \n",
       "2406  0x98e35f5599b57998900e5e0675721c90a5499327 2023-12-27 2023-12-31   \n",
       "2407  0x5d63f734068264f2a65591d90672443376aae06e 2023-12-29 2024-01-01   \n",
       "\n",
       "                                    pair_address  ath_price_timestamp  \\\n",
       "0     0x123ad76dba817a1db8f564f392dc120a6f604063           1667692800   \n",
       "1     0xbb8ee1a73ca54faa39b95798f22a6bb5f29dfe0e           1667692800   \n",
       "2     0x944945f428fc38a37e6aaafff1a287eaa38af991           1667779200   \n",
       "3     0xac8ffbf156583bc3c9efe1e195547a24adebf151           1676160000   \n",
       "4     0x5277dbc69a18a7dd1d50204c84659f18379c2681           1667779200   \n",
       "...                                          ...                  ...   \n",
       "2403  0x7713a5f3e126313689306529d4a5e750c4e51147           1703808000   \n",
       "2404  0xfbd2684d6399e976f53debe465eff2cacfed2528           1703635200   \n",
       "2405  0xfa4458db8fe0fcef68bc24ec2c55ba76f4d34a5e           1704067200   \n",
       "2406  0x996684e437b90e6823730d40dc3e8ff397370e11           1703980800   \n",
       "2407  0x7bba42ad585929b3d2b70066715b542b479c561f           1704067200   \n",
       "\n",
       "      alert_timestamp  \n",
       "0          1667520000  \n",
       "1          1667520000  \n",
       "2          1667520000  \n",
       "3          1667606400  \n",
       "4          1667606400  \n",
       "...               ...  \n",
       "2403       1703289600  \n",
       "2404       1703376000  \n",
       "2405       1703548800  \n",
       "2406       1703635200  \n",
       "2407       1703808000  \n",
       "\n",
       "[2408 rows x 6 columns]"
      ]
     },
     "execution_count": 25,
     "metadata": {},
     "output_type": "execute_result"
    }
   ],
   "source": [
    "merged_df.drop_duplicates()"
   ]
  },
  {
   "cell_type": "code",
   "execution_count": 26,
   "id": "6098c57b-5f63-437f-a0b0-40fbb3abc4d5",
   "metadata": {},
   "outputs": [
    {
     "name": "stdout",
     "output_type": "stream",
     "text": [
      "<class 'pandas.core.frame.DataFrame'>\n",
      "RangeIndex: 2408 entries, 0 to 2407\n",
      "Data columns (total 6 columns):\n",
      " #   Column               Non-Null Count  Dtype         \n",
      "---  ------               --------------  -----         \n",
      " 0   address              2408 non-null   object        \n",
      " 1   alert_date           2408 non-null   datetime64[ns]\n",
      " 2   ath_date             2408 non-null   datetime64[ns]\n",
      " 3   pair_address         2408 non-null   object        \n",
      " 4   ath_price_timestamp  2408 non-null   int32         \n",
      " 5   alert_timestamp      2408 non-null   int32         \n",
      "dtypes: datetime64[ns](2), int32(2), object(2)\n",
      "memory usage: 94.2+ KB\n"
     ]
    }
   ],
   "source": [
    "merged_df.info()"
   ]
  },
  {
   "cell_type": "markdown",
   "id": "f158863c-650d-4daa-ba56-ea49528023a9",
   "metadata": {},
   "source": [
    "## Scraping the Data<a id=\"scrape\"></a>\n",
    "<p><a href=\"#Contents\" style=\"font-size: 12px;\">Back to Table of Contents</a></p>"
   ]
  },
  {
   "cell_type": "code",
   "execution_count": 27,
   "id": "824d0017-7ce2-479a-af23-f45046b75ee8",
   "metadata": {},
   "outputs": [],
   "source": [
    "import requests\n",
    "import json\n",
    "import time"
   ]
  },
  {
   "cell_type": "markdown",
   "id": "36bfd299-9a36-4dda-8485-b06d7fa81f65",
   "metadata": {},
   "source": [
    "In addition to volume metrics on the day trading goes live (almost always the liquidity lock day), we want metrics for:\n",
    "\n",
    "- Volume at ath date\n",
    "- Volume the day before ath\n",
    "- Volume the dat after ath\n",
    "\n",
    "If volume the day before and/or after is 0 or irregularly lower than the ath day we would consider this a red flag and not a true indication of a successful invesment opportunity. We've seen false ath growth from liquidity manipulation scams, in which cases there is no volume leading up to the final transaction and no volume afterwards either.\n",
    "\n",
    "In short: This will enable us to filter out false positives and scams"
   ]
  },
  {
   "cell_type": "markdown",
   "id": "8e1689a3-5362-4597-97af-77fb91c6dead",
   "metadata": {},
   "source": [
    "To get the day before and after our timestamp, we can either add or subtract **86400**\n",
    "\n",
    "As of the moment of this call, the api does not allow a list of timestamp inputs => so we will have to make 4 calls for each row of data."
   ]
  },
  {
   "cell_type": "code",
   "execution_count": 30,
   "id": "cfdf34ad-601f-426c-8c00-841cf4257364",
   "metadata": {},
   "outputs": [],
   "source": [
    "defined_api_results = []"
   ]
  },
  {
   "cell_type": "code",
   "execution_count": 31,
   "id": "df068799-74fe-4213-a2d7-a8c42effbad0",
   "metadata": {},
   "outputs": [],
   "source": [
    "iterations_acc_1 = 0"
   ]
  },
  {
   "cell_type": "code",
   "execution_count": 1,
   "id": "48067d11-30d4-4c40-919d-d58cc7bcf8c4",
   "metadata": {},
   "outputs": [],
   "source": [
    "url = \"https://graph.defined.fi/graphql\"\n",
    "\n",
    "headers = {\n",
    "  \"content_type\":\"application/json\",\n",
    "  \"Authorization\": \"api key here\"\n",
    "}\n",
    "\n",
    "for index, row in merged_df.iloc[iterations_acc_1:2409].iterrows():\n",
    "    row_object = []\n",
    "    \n",
    "    pair = row['pair_address']\n",
    "    alert = row['alert_timestamp']\n",
    "    ath = row['ath_price_timestamp']\n",
    "    ath_before = row['ath_price_timestamp'] - 86400\n",
    "    ath_after = row['ath_price_timestamp'] + 86400\n",
    "\n",
    "    getDetailedPairStats = f\"\"\"\n",
    "    query {{\n",
    "        getDetailedPairStats(pairAddress: \"{pair}\" networkId:1 timestamp:{alert} tokenOfInterest:token1) {{\n",
    "        tokenOfInterest\n",
    "        stats_day1 {{\n",
    "          statsUsd {{\n",
    "            volume {{\n",
    "              currentValue\n",
    "              previousValue\n",
    "              change\n",
    "            }}\n",
    "          }}\n",
    "          start\n",
    "          end\n",
    "        }}\n",
    "      }}\n",
    "    }}\n",
    "    \"\"\"\n",
    "    \n",
    "    response = requests.post(url, headers=headers, json={\"query\": getDetailedPairStats})\n",
    "\n",
    "    if response.status_code == 200:\n",
    "        row_object.append(row['address'])\n",
    "        row_object.append(json.loads(response.text))\n",
    "        print('success')\n",
    "    else:\n",
    "        print(f\"Request failed for index {index}. Status code: {response.status_code}\")\n",
    "        break\n",
    "\n",
    "    time.sleep(0.25)\n",
    "    \n",
    "    # second call\n",
    "    getDetailedPairStats = f\"\"\"\n",
    "    query {{\n",
    "        getDetailedPairStats(pairAddress: \"{pair}\" networkId:1 timestamp:{ath} tokenOfInterest:token1) {{\n",
    "        tokenOfInterest\n",
    "        stats_day1 {{\n",
    "          statsUsd {{\n",
    "            volume {{\n",
    "              currentValue\n",
    "              previousValue\n",
    "              change\n",
    "            }}\n",
    "          }}\n",
    "          start\n",
    "          end\n",
    "        }}\n",
    "      }}\n",
    "    }}\n",
    "    \"\"\"\n",
    "    response = requests.post(url, headers=headers, json={\"query\": getDetailedPairStats})\n",
    "\n",
    "    if response.status_code == 200:\n",
    "        row_object.append(json.loads(response.text))\n",
    "        print('success')\n",
    "    else:\n",
    "        print(f\"Request failed for index {index}. Status code: {response.status_code}\")\n",
    "        break\n",
    "\n",
    "    time.sleep(0.25)\n",
    "\n",
    "    # third call\n",
    "    getDetailedPairStats = f\"\"\"\n",
    "    query {{\n",
    "        getDetailedPairStats(pairAddress: \"{pair}\" networkId:1 timestamp:{ath_before} tokenOfInterest:token1) {{\n",
    "        tokenOfInterest\n",
    "        stats_day1 {{\n",
    "          statsUsd {{\n",
    "            volume {{\n",
    "              currentValue\n",
    "              previousValue\n",
    "              change\n",
    "            }}\n",
    "          }}\n",
    "          start\n",
    "          end\n",
    "        }}\n",
    "      }}\n",
    "    }}\n",
    "    \"\"\"\n",
    "    response = requests.post(url, headers=headers, json={\"query\": getDetailedPairStats})\n",
    "\n",
    "    if response.status_code == 200:\n",
    "        row_object.append(json.loads(response.text))\n",
    "        print('success')\n",
    "    else:\n",
    "        print(f\"Request failed for index {index}. Status code: {response.status_code}\")\n",
    "        break\n",
    "\n",
    "    time.sleep(0.25)\n",
    "\n",
    "    # fourth call\n",
    "    getDetailedPairStats = f\"\"\"\n",
    "    query {{\n",
    "        getDetailedPairStats(pairAddress: \"{pair}\" networkId:1 timestamp:{ath_after} tokenOfInterest:token1) {{\n",
    "        tokenOfInterest\n",
    "        stats_day1 {{\n",
    "          statsUsd {{\n",
    "            volume {{\n",
    "              currentValue\n",
    "              previousValue\n",
    "              change\n",
    "            }}\n",
    "          }}\n",
    "          start\n",
    "          end\n",
    "        }}\n",
    "      }}\n",
    "    }}\n",
    "    \"\"\"\n",
    "    response = requests.post(url, headers=headers, json={\"query\": getDetailedPairStats})\n",
    "\n",
    "    if response.status_code == 200:\n",
    "        row_object.append(json.loads(response.text))\n",
    "        print('success')\n",
    "\n",
    "        defined_api_results.append(row_object)\n",
    "    else:\n",
    "        print(f\"Request failed for index {index}. Status code: {response.status_code}\")\n",
    "        break\n",
    "\n",
    "    time.sleep(0.25)\n",
    "\n",
    "    print(len(defined_api_results))\n",
    "    # track successful iterations only\n",
    "    iterations_acc_1 += 1"
   ]
  },
  {
   "cell_type": "code",
   "execution_count": 36,
   "id": "6238b867-6da5-4ff4-beea-c13c6699e054",
   "metadata": {},
   "outputs": [
    {
     "data": {
      "text/plain": [
       "2408"
      ]
     },
     "execution_count": 36,
     "metadata": {},
     "output_type": "execute_result"
    }
   ],
   "source": [
    "len(defined_api_results)"
   ]
  },
  {
   "cell_type": "markdown",
   "id": "653e2293-92f1-4348-9a57-029220a990d8",
   "metadata": {},
   "source": [
    "Sample look at data"
   ]
  },
  {
   "cell_type": "code",
   "execution_count": 40,
   "id": "5f60cf19-f8c4-4a98-9afa-17b824c71ecf",
   "metadata": {},
   "outputs": [
    {
     "data": {
      "text/plain": [
       "['0xcc578f173851cfad2fc124e1499bd492849b2b6d',\n",
       " {'data': {'getDetailedPairStats': {'tokenOfInterest': 'token1',\n",
       "    'stats_day1': {'statsUsd': {'volume': {'currentValue': '0',\n",
       "       'previousValue': '0',\n",
       "       'change': 0}},\n",
       "     'start': 1669334400,\n",
       "     'end': 1669420801}}}},\n",
       " {'data': {'getDetailedPairStats': {'tokenOfInterest': 'token1',\n",
       "    'stats_day1': {'statsUsd': {'volume': {'currentValue': '102936',\n",
       "       'previousValue': '91997',\n",
       "       'change': 0.118906}},\n",
       "     'start': 1669507200,\n",
       "     'end': 1669593601}}}},\n",
       " {'data': {'getDetailedPairStats': {'tokenOfInterest': 'token1',\n",
       "    'stats_day1': {'statsUsd': {'volume': {'currentValue': '91997',\n",
       "       'previousValue': '0',\n",
       "       'change': 1}},\n",
       "     'start': 1669420800,\n",
       "     'end': 1669507201}}}},\n",
       " {'data': {'getDetailedPairStats': {'tokenOfInterest': 'token1',\n",
       "    'stats_day1': {'statsUsd': {'volume': {'currentValue': '60479',\n",
       "       'previousValue': '102936',\n",
       "       'change': -0.41246}},\n",
       "     'start': 1669593600,\n",
       "     'end': 1669680001}}}}]"
      ]
     },
     "execution_count": 40,
     "metadata": {},
     "output_type": "execute_result"
    }
   ],
   "source": [
    "defined_api_results[100]"
   ]
  },
  {
   "cell_type": "code",
   "execution_count": 41,
   "id": "abbf518b-295a-46ca-9b4c-eb9e8e302c58",
   "metadata": {},
   "outputs": [
    {
     "data": {
      "text/plain": [
       "'0xcc578f173851cfad2fc124e1499bd492849b2b6d'"
      ]
     },
     "execution_count": 41,
     "metadata": {},
     "output_type": "execute_result"
    }
   ],
   "source": [
    "defined_api_results[100][0] #address"
   ]
  },
  {
   "cell_type": "code",
   "execution_count": 42,
   "id": "9fe6c951-717e-4c7b-8b9c-6b9d3033e8db",
   "metadata": {},
   "outputs": [
    {
     "data": {
      "text/plain": [
       "{'data': {'getDetailedPairStats': {'tokenOfInterest': 'token1',\n",
       "   'stats_day1': {'statsUsd': {'volume': {'currentValue': '0',\n",
       "      'previousValue': '0',\n",
       "      'change': 0}},\n",
       "    'start': 1669334400,\n",
       "    'end': 1669420801}}}}"
      ]
     },
     "execution_count": 42,
     "metadata": {},
     "output_type": "execute_result"
    }
   ],
   "source": [
    "defined_api_results[100][1] #alert\n",
    "defined_api_results[100][2] #ath\n",
    "defined_api_results[100][3] #before\n",
    "defined_api_results[100][4] #after"
   ]
  },
  {
   "cell_type": "code",
   "execution_count": 52,
   "id": "c78cc122-e93b-4f9c-81bf-d2c69994e4cb",
   "metadata": {},
   "outputs": [
    {
     "data": {
      "text/plain": [
       "'102936'"
      ]
     },
     "execution_count": 52,
     "metadata": {},
     "output_type": "execute_result"
    }
   ],
   "source": [
    "defined_api_results[100][2]['data']['getDetailedPairStats']['stats_day1']['statsUsd']['volume']['currentValue'] #ath"
   ]
  },
  {
   "cell_type": "code",
   "execution_count": 53,
   "id": "9378db84-b251-419d-b2da-312cdc41752c",
   "metadata": {},
   "outputs": [
    {
     "data": {
      "text/plain": [
       "'91997'"
      ]
     },
     "execution_count": 53,
     "metadata": {},
     "output_type": "execute_result"
    }
   ],
   "source": [
    "defined_api_results[100][3]['data']['getDetailedPairStats']['stats_day1']['statsUsd']['volume']['currentValue'] #before"
   ]
  },
  {
   "cell_type": "code",
   "execution_count": 55,
   "id": "9ee06364-5d5a-47ce-aae8-c0f24811c961",
   "metadata": {},
   "outputs": [
    {
     "data": {
      "text/plain": [
       "'60479'"
      ]
     },
     "execution_count": 55,
     "metadata": {},
     "output_type": "execute_result"
    }
   ],
   "source": [
    "defined_api_results[100][4]['data']['getDetailedPairStats']['stats_day1']['statsUsd']['volume']['currentValue'] #after"
   ]
  },
  {
   "cell_type": "code",
   "execution_count": 56,
   "id": "4f750bc9-1db6-47e5-8d99-f4c681b72101",
   "metadata": {},
   "outputs": [],
   "source": [
    "values_list = []\n",
    "line_number = 1\n",
    "\n",
    "for item in defined_api_results:\n",
    "    value_item_list = [\n",
    "        item[0],\n",
    "        item[1]['data']['getDetailedPairStats']['stats_day1']['statsUsd']['volume']['currentValue'],\n",
    "        item[2]['data']['getDetailedPairStats']['stats_day1']['statsUsd']['volume']['currentValue'],\n",
    "        item[3]['data']['getDetailedPairStats']['stats_day1']['statsUsd']['volume']['currentValue'],\n",
    "        item[4]['data']['getDetailedPairStats']['stats_day1']['statsUsd']['volume']['currentValue'],\n",
    "    ]\n",
    "\n",
    "    values_list.append(value_item_list)\n",
    "    line_number += 1\n"
   ]
  },
  {
   "cell_type": "markdown",
   "id": "773fb193-9a12-47a3-89f0-1fd22ee96dd8",
   "metadata": {},
   "source": [
    "Let's create our Dataframe:"
   ]
  },
  {
   "cell_type": "code",
   "execution_count": 58,
   "id": "f7ab8aa8-d4a7-4455-b846-ac6df6d61bd2",
   "metadata": {},
   "outputs": [],
   "source": [
    "columns = ['address', 'daily_volume_on_launch', 'daily_volume_at_ath', 'daily_volume_before_ath', 'daily_volume_after_ath']\n",
    "volume_df = pd.DataFrame(values_list, columns=columns)"
   ]
  },
  {
   "cell_type": "code",
   "execution_count": 59,
   "id": "86f62beb-da54-4921-9763-f98193a7d134",
   "metadata": {},
   "outputs": [
    {
     "data": {
      "text/html": [
       "<div>\n",
       "<style scoped>\n",
       "    .dataframe tbody tr th:only-of-type {\n",
       "        vertical-align: middle;\n",
       "    }\n",
       "\n",
       "    .dataframe tbody tr th {\n",
       "        vertical-align: top;\n",
       "    }\n",
       "\n",
       "    .dataframe thead th {\n",
       "        text-align: right;\n",
       "    }\n",
       "</style>\n",
       "<table border=\"1\" class=\"dataframe\">\n",
       "  <thead>\n",
       "    <tr style=\"text-align: right;\">\n",
       "      <th></th>\n",
       "      <th>address</th>\n",
       "      <th>daily_volume_on_launch</th>\n",
       "      <th>daily_volume_at_ath</th>\n",
       "      <th>daily_volume_before_ath</th>\n",
       "      <th>daily_volume_after_ath</th>\n",
       "    </tr>\n",
       "  </thead>\n",
       "  <tbody>\n",
       "    <tr>\n",
       "      <th>0</th>\n",
       "      <td>0x568d77b90622e5be0ae4132edc87e07188f6c19d</td>\n",
       "      <td>0</td>\n",
       "      <td>41236</td>\n",
       "      <td>89661</td>\n",
       "      <td>48167</td>\n",
       "    </tr>\n",
       "    <tr>\n",
       "      <th>1</th>\n",
       "      <td>0x50b3cdbb29351c189ddcea87556eddc29535f10c</td>\n",
       "      <td>0</td>\n",
       "      <td>21972</td>\n",
       "      <td>26726</td>\n",
       "      <td>21040</td>\n",
       "    </tr>\n",
       "    <tr>\n",
       "      <th>2</th>\n",
       "      <td>0xe424c77eff453ea6be368c8480e8ae405868bda2</td>\n",
       "      <td>0</td>\n",
       "      <td>14226</td>\n",
       "      <td>26511</td>\n",
       "      <td>27099</td>\n",
       "    </tr>\n",
       "    <tr>\n",
       "      <th>3</th>\n",
       "      <td>0xfd5d8dab40f60e184426c3dd6a5edc9e7842f375</td>\n",
       "      <td>0</td>\n",
       "      <td>0</td>\n",
       "      <td>0</td>\n",
       "      <td>340</td>\n",
       "    </tr>\n",
       "    <tr>\n",
       "      <th>4</th>\n",
       "      <td>0x2dc1f8a31080d0d7d03c2c719a02955a3548e478</td>\n",
       "      <td>0</td>\n",
       "      <td>68054</td>\n",
       "      <td>29311</td>\n",
       "      <td>108706</td>\n",
       "    </tr>\n",
       "    <tr>\n",
       "      <th>...</th>\n",
       "      <td>...</td>\n",
       "      <td>...</td>\n",
       "      <td>...</td>\n",
       "      <td>...</td>\n",
       "      <td>...</td>\n",
       "    </tr>\n",
       "    <tr>\n",
       "      <th>2403</th>\n",
       "      <td>0x1210c3e3c6296dbf2708f5a4800228236984b475</td>\n",
       "      <td>0</td>\n",
       "      <td>1481</td>\n",
       "      <td>228</td>\n",
       "      <td>1263</td>\n",
       "    </tr>\n",
       "    <tr>\n",
       "      <th>2404</th>\n",
       "      <td>0xac7945a20c3a6629749f40ad57aac77ad9c60fed</td>\n",
       "      <td>0</td>\n",
       "      <td>60313</td>\n",
       "      <td>203861</td>\n",
       "      <td>41105</td>\n",
       "    </tr>\n",
       "    <tr>\n",
       "      <th>2405</th>\n",
       "      <td>0x38e3e9512f669f7297e8d2dd1bbc1a994ee78e4b</td>\n",
       "      <td>0</td>\n",
       "      <td>31932</td>\n",
       "      <td>40029</td>\n",
       "      <td>196417</td>\n",
       "    </tr>\n",
       "    <tr>\n",
       "      <th>2406</th>\n",
       "      <td>0x98e35f5599b57998900e5e0675721c90a5499327</td>\n",
       "      <td>0</td>\n",
       "      <td>80330</td>\n",
       "      <td>224771</td>\n",
       "      <td>128706</td>\n",
       "    </tr>\n",
       "    <tr>\n",
       "      <th>2407</th>\n",
       "      <td>0x5d63f734068264f2a65591d90672443376aae06e</td>\n",
       "      <td>0</td>\n",
       "      <td>115</td>\n",
       "      <td>19534</td>\n",
       "      <td>421</td>\n",
       "    </tr>\n",
       "  </tbody>\n",
       "</table>\n",
       "<p>2408 rows × 5 columns</p>\n",
       "</div>"
      ],
      "text/plain": [
       "                                         address daily_volume_on_launch  \\\n",
       "0     0x568d77b90622e5be0ae4132edc87e07188f6c19d                      0   \n",
       "1     0x50b3cdbb29351c189ddcea87556eddc29535f10c                      0   \n",
       "2     0xe424c77eff453ea6be368c8480e8ae405868bda2                      0   \n",
       "3     0xfd5d8dab40f60e184426c3dd6a5edc9e7842f375                      0   \n",
       "4     0x2dc1f8a31080d0d7d03c2c719a02955a3548e478                      0   \n",
       "...                                          ...                    ...   \n",
       "2403  0x1210c3e3c6296dbf2708f5a4800228236984b475                      0   \n",
       "2404  0xac7945a20c3a6629749f40ad57aac77ad9c60fed                      0   \n",
       "2405  0x38e3e9512f669f7297e8d2dd1bbc1a994ee78e4b                      0   \n",
       "2406  0x98e35f5599b57998900e5e0675721c90a5499327                      0   \n",
       "2407  0x5d63f734068264f2a65591d90672443376aae06e                      0   \n",
       "\n",
       "     daily_volume_at_ath daily_volume_before_ath daily_volume_after_ath  \n",
       "0                  41236                   89661                  48167  \n",
       "1                  21972                   26726                  21040  \n",
       "2                  14226                   26511                  27099  \n",
       "3                      0                       0                    340  \n",
       "4                  68054                   29311                 108706  \n",
       "...                  ...                     ...                    ...  \n",
       "2403                1481                     228                   1263  \n",
       "2404               60313                  203861                  41105  \n",
       "2405               31932                   40029                 196417  \n",
       "2406               80330                  224771                 128706  \n",
       "2407                 115                   19534                    421  \n",
       "\n",
       "[2408 rows x 5 columns]"
      ]
     },
     "execution_count": 59,
     "metadata": {},
     "output_type": "execute_result"
    }
   ],
   "source": [
    "volume_df"
   ]
  },
  {
   "cell_type": "code",
   "execution_count": 64,
   "id": "993c5574-696c-4db9-bbfa-3aa8aa134d42",
   "metadata": {},
   "outputs": [
    {
     "data": {
      "text/plain": [
       "2247"
      ]
     },
     "execution_count": 64,
     "metadata": {},
     "output_type": "execute_result"
    }
   ],
   "source": [
    "sum(volume_df['daily_volume_on_launch'] == '0')"
   ]
  },
  {
   "cell_type": "code",
   "execution_count": 66,
   "id": "353c5754-a599-4c1b-ac20-567521d7bf1c",
   "metadata": {},
   "outputs": [],
   "source": [
    "volume_df.to_csv('../data/target_addresses_volume.csv', index=False)"
   ]
  },
  {
   "cell_type": "markdown",
   "id": "705b0bf8-3c96-45fa-b523-296a96368199",
   "metadata": {},
   "source": [
    "## Conclusion & Next Steps<a id=\"nextsteps\"></a>\n",
    "<p><a href=\"#Contents\" style=\"font-size: 12px;\">Back to Table of Contents</a></p>"
   ]
  },
  {
   "cell_type": "markdown",
   "id": "56a8d498-50c8-4e39-a0fa-c218d5f70821",
   "metadata": {},
   "source": [
    "We now have our volume data to help determine our target class.\n",
    "\n",
    "Let's head back to our data cleaning and put this data to use: **['tokens_cleaning'](../Research/tokens_cleaning.ipynb)**"
   ]
  },
  {
   "cell_type": "code",
   "execution_count": null,
   "id": "50152fb4-c226-48f9-9a7a-299364573325",
   "metadata": {},
   "outputs": [],
   "source": []
  }
 ],
 "metadata": {
  "kernelspec": {
   "display_name": "Python 3 (ipykernel)",
   "language": "python",
   "name": "python3"
  },
  "language_info": {
   "codemirror_mode": {
    "name": "ipython",
    "version": 3
   },
   "file_extension": ".py",
   "mimetype": "text/x-python",
   "name": "python",
   "nbconvert_exporter": "python",
   "pygments_lexer": "ipython3",
   "version": "3.8.18"
  }
 },
 "nbformat": 4,
 "nbformat_minor": 5
}
